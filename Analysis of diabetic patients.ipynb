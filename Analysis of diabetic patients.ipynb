{
 "cells": [
  {
   "cell_type": "markdown",
   "id": "1072cf4f",
   "metadata": {},
   "source": [
    "NAME: RUCHAK VIRA, PRIYAL BAMNIKAR, PRANAV SHARMA"
   ]
  },
  {
   "cell_type": "markdown",
   "id": "c611b978",
   "metadata": {},
   "source": [
    "## IMPORTING LIBRARIES"
   ]
  },
  {
   "cell_type": "code",
   "execution_count": 1,
   "id": "258c927d",
   "metadata": {},
   "outputs": [],
   "source": [
    "%matplotlib inline\n",
    "\n",
    "import pandas as pd\n",
    "import numpy as np\n",
    "import requests\n",
    "from io import StringIO\n",
    "import matplotlib.pyplot as plt\n",
    "np.set_printoptions(precision=4)\n",
    "pd.options.display.max_rows = 20"
   ]
  },
  {
   "cell_type": "markdown",
   "id": "b77224db",
   "metadata": {},
   "source": [
    "## IMPORTING THE DATASETS"
   ]
  },
  {
   "cell_type": "code",
   "execution_count": 2,
   "id": "a27704fb",
   "metadata": {},
   "outputs": [
    {
     "name": "stderr",
     "output_type": "stream",
     "text": [
      "/opt/conda/lib/python3.9/site-packages/urllib3/connectionpool.py:1013: InsecureRequestWarning: Unverified HTTPS request is being made to host 'gitlab.gitlab.svc.cent-su.org'. Adding certificate verification is strongly advised. See: https://urllib3.readthedocs.io/en/1.26.x/advanced-usage.html#ssl-warnings\n",
      "  warnings.warn(\n"
     ]
    }
   ],
   "source": [
    "#Defining the url for the dataset\n",
    "urlds=\"https://gitlab.gitlab.svc.cent-su.org/ccaicedo/652public/-/raw/master/fall21/diabetic_data.csv\"\n",
    "#Access to datasets via URLs is usually easy (see command below) but we have to work around a security issue in our case.\n",
    "\n",
    "csvdata=requests.get(urlds,verify=False).text  #this will generate a warning but you can proceed"
   ]
  },
  {
   "cell_type": "code",
   "execution_count": 3,
   "id": "49441ed9",
   "metadata": {},
   "outputs": [],
   "source": [
    "#Storing the diabetes data into the \"data\" dataframe\n",
    "data=pd.read_csv(StringIO(csvdata))  #getting the data into a pandas dataframe"
   ]
  },
  {
   "cell_type": "code",
   "execution_count": 4,
   "id": "43ce39d2",
   "metadata": {},
   "outputs": [],
   "source": [
    "#Storing the data wherein the mapping is shown into the dataframe \"id_mappings\"\n",
    "id_mappings = pd.read_csv('IDs_mapping.csv')"
   ]
  },
  {
   "cell_type": "markdown",
   "id": "1fce7f15",
   "metadata": {},
   "source": [
    " ## UNDERSTANDING THE DATA"
   ]
  },
  {
   "cell_type": "markdown",
   "id": "73997395",
   "metadata": {},
   "source": [
    "Viewing the \"data\" dataframe"
   ]
  },
  {
   "cell_type": "code",
   "execution_count": 5,
   "id": "07bb757b",
   "metadata": {},
   "outputs": [
    {
     "data": {
      "text/html": [
       "<div>\n",
       "<style scoped>\n",
       "    .dataframe tbody tr th:only-of-type {\n",
       "        vertical-align: middle;\n",
       "    }\n",
       "\n",
       "    .dataframe tbody tr th {\n",
       "        vertical-align: top;\n",
       "    }\n",
       "\n",
       "    .dataframe thead th {\n",
       "        text-align: right;\n",
       "    }\n",
       "</style>\n",
       "<table border=\"1\" class=\"dataframe\">\n",
       "  <thead>\n",
       "    <tr style=\"text-align: right;\">\n",
       "      <th></th>\n",
       "      <th>encounter_id</th>\n",
       "      <th>patient_nbr</th>\n",
       "      <th>race</th>\n",
       "      <th>gender</th>\n",
       "      <th>age</th>\n",
       "      <th>weight</th>\n",
       "      <th>admission_type_id</th>\n",
       "      <th>discharge_disposition_id</th>\n",
       "      <th>admission_source_id</th>\n",
       "      <th>time_in_hospital</th>\n",
       "      <th>...</th>\n",
       "      <th>citoglipton</th>\n",
       "      <th>insulin</th>\n",
       "      <th>glyburide-metformin</th>\n",
       "      <th>glipizide-metformin</th>\n",
       "      <th>glimepiride-pioglitazone</th>\n",
       "      <th>metformin-rosiglitazone</th>\n",
       "      <th>metformin-pioglitazone</th>\n",
       "      <th>change</th>\n",
       "      <th>diabetesMed</th>\n",
       "      <th>readmitted</th>\n",
       "    </tr>\n",
       "  </thead>\n",
       "  <tbody>\n",
       "    <tr>\n",
       "      <th>0</th>\n",
       "      <td>2278392</td>\n",
       "      <td>8222157</td>\n",
       "      <td>Caucasian</td>\n",
       "      <td>Female</td>\n",
       "      <td>[0-10)</td>\n",
       "      <td>?</td>\n",
       "      <td>6</td>\n",
       "      <td>25</td>\n",
       "      <td>1</td>\n",
       "      <td>1</td>\n",
       "      <td>...</td>\n",
       "      <td>No</td>\n",
       "      <td>No</td>\n",
       "      <td>No</td>\n",
       "      <td>No</td>\n",
       "      <td>No</td>\n",
       "      <td>No</td>\n",
       "      <td>No</td>\n",
       "      <td>No</td>\n",
       "      <td>No</td>\n",
       "      <td>NO</td>\n",
       "    </tr>\n",
       "    <tr>\n",
       "      <th>1</th>\n",
       "      <td>149190</td>\n",
       "      <td>55629189</td>\n",
       "      <td>Caucasian</td>\n",
       "      <td>Female</td>\n",
       "      <td>[10-20)</td>\n",
       "      <td>?</td>\n",
       "      <td>1</td>\n",
       "      <td>1</td>\n",
       "      <td>7</td>\n",
       "      <td>3</td>\n",
       "      <td>...</td>\n",
       "      <td>No</td>\n",
       "      <td>Up</td>\n",
       "      <td>No</td>\n",
       "      <td>No</td>\n",
       "      <td>No</td>\n",
       "      <td>No</td>\n",
       "      <td>No</td>\n",
       "      <td>Ch</td>\n",
       "      <td>Yes</td>\n",
       "      <td>&gt;30</td>\n",
       "    </tr>\n",
       "    <tr>\n",
       "      <th>2</th>\n",
       "      <td>64410</td>\n",
       "      <td>86047875</td>\n",
       "      <td>AfricanAmerican</td>\n",
       "      <td>Female</td>\n",
       "      <td>[20-30)</td>\n",
       "      <td>?</td>\n",
       "      <td>1</td>\n",
       "      <td>1</td>\n",
       "      <td>7</td>\n",
       "      <td>2</td>\n",
       "      <td>...</td>\n",
       "      <td>No</td>\n",
       "      <td>No</td>\n",
       "      <td>No</td>\n",
       "      <td>No</td>\n",
       "      <td>No</td>\n",
       "      <td>No</td>\n",
       "      <td>No</td>\n",
       "      <td>No</td>\n",
       "      <td>Yes</td>\n",
       "      <td>NO</td>\n",
       "    </tr>\n",
       "    <tr>\n",
       "      <th>3</th>\n",
       "      <td>500364</td>\n",
       "      <td>82442376</td>\n",
       "      <td>Caucasian</td>\n",
       "      <td>Male</td>\n",
       "      <td>[30-40)</td>\n",
       "      <td>?</td>\n",
       "      <td>1</td>\n",
       "      <td>1</td>\n",
       "      <td>7</td>\n",
       "      <td>2</td>\n",
       "      <td>...</td>\n",
       "      <td>No</td>\n",
       "      <td>Up</td>\n",
       "      <td>No</td>\n",
       "      <td>No</td>\n",
       "      <td>No</td>\n",
       "      <td>No</td>\n",
       "      <td>No</td>\n",
       "      <td>Ch</td>\n",
       "      <td>Yes</td>\n",
       "      <td>NO</td>\n",
       "    </tr>\n",
       "    <tr>\n",
       "      <th>4</th>\n",
       "      <td>16680</td>\n",
       "      <td>42519267</td>\n",
       "      <td>Caucasian</td>\n",
       "      <td>Male</td>\n",
       "      <td>[40-50)</td>\n",
       "      <td>?</td>\n",
       "      <td>1</td>\n",
       "      <td>1</td>\n",
       "      <td>7</td>\n",
       "      <td>1</td>\n",
       "      <td>...</td>\n",
       "      <td>No</td>\n",
       "      <td>Steady</td>\n",
       "      <td>No</td>\n",
       "      <td>No</td>\n",
       "      <td>No</td>\n",
       "      <td>No</td>\n",
       "      <td>No</td>\n",
       "      <td>Ch</td>\n",
       "      <td>Yes</td>\n",
       "      <td>NO</td>\n",
       "    </tr>\n",
       "  </tbody>\n",
       "</table>\n",
       "<p>5 rows × 50 columns</p>\n",
       "</div>"
      ],
      "text/plain": [
       "   encounter_id  patient_nbr             race  gender      age weight  \\\n",
       "0       2278392      8222157        Caucasian  Female   [0-10)      ?   \n",
       "1        149190     55629189        Caucasian  Female  [10-20)      ?   \n",
       "2         64410     86047875  AfricanAmerican  Female  [20-30)      ?   \n",
       "3        500364     82442376        Caucasian    Male  [30-40)      ?   \n",
       "4         16680     42519267        Caucasian    Male  [40-50)      ?   \n",
       "\n",
       "   admission_type_id  discharge_disposition_id  admission_source_id  \\\n",
       "0                  6                        25                    1   \n",
       "1                  1                         1                    7   \n",
       "2                  1                         1                    7   \n",
       "3                  1                         1                    7   \n",
       "4                  1                         1                    7   \n",
       "\n",
       "   time_in_hospital  ... citoglipton insulin  glyburide-metformin  \\\n",
       "0                 1  ...          No      No                   No   \n",
       "1                 3  ...          No      Up                   No   \n",
       "2                 2  ...          No      No                   No   \n",
       "3                 2  ...          No      Up                   No   \n",
       "4                 1  ...          No  Steady                   No   \n",
       "\n",
       "   glipizide-metformin  glimepiride-pioglitazone  metformin-rosiglitazone  \\\n",
       "0                   No                        No                       No   \n",
       "1                   No                        No                       No   \n",
       "2                   No                        No                       No   \n",
       "3                   No                        No                       No   \n",
       "4                   No                        No                       No   \n",
       "\n",
       "   metformin-pioglitazone  change diabetesMed readmitted  \n",
       "0                      No      No          No         NO  \n",
       "1                      No      Ch         Yes        >30  \n",
       "2                      No      No         Yes         NO  \n",
       "3                      No      Ch         Yes         NO  \n",
       "4                      No      Ch         Yes         NO  \n",
       "\n",
       "[5 rows x 50 columns]"
      ]
     },
     "execution_count": 5,
     "metadata": {},
     "output_type": "execute_result"
    }
   ],
   "source": [
    "data.head() #the first 5 rows of the dataset"
   ]
  },
  {
   "cell_type": "markdown",
   "id": "5742749c",
   "metadata": {},
   "source": [
    "Viewing the \"id_mappings\" dataframe"
   ]
  },
  {
   "cell_type": "code",
   "execution_count": 6,
   "id": "c98bcb03",
   "metadata": {},
   "outputs": [
    {
     "data": {
      "text/html": [
       "<div>\n",
       "<style scoped>\n",
       "    .dataframe tbody tr th:only-of-type {\n",
       "        vertical-align: middle;\n",
       "    }\n",
       "\n",
       "    .dataframe tbody tr th {\n",
       "        vertical-align: top;\n",
       "    }\n",
       "\n",
       "    .dataframe thead th {\n",
       "        text-align: right;\n",
       "    }\n",
       "</style>\n",
       "<table border=\"1\" class=\"dataframe\">\n",
       "  <thead>\n",
       "    <tr style=\"text-align: right;\">\n",
       "      <th></th>\n",
       "      <th>admission_type_id</th>\n",
       "      <th>description</th>\n",
       "    </tr>\n",
       "  </thead>\n",
       "  <tbody>\n",
       "    <tr>\n",
       "      <th>0</th>\n",
       "      <td>1</td>\n",
       "      <td>Emergency</td>\n",
       "    </tr>\n",
       "    <tr>\n",
       "      <th>1</th>\n",
       "      <td>2</td>\n",
       "      <td>Urgent</td>\n",
       "    </tr>\n",
       "    <tr>\n",
       "      <th>2</th>\n",
       "      <td>3</td>\n",
       "      <td>Elective</td>\n",
       "    </tr>\n",
       "    <tr>\n",
       "      <th>3</th>\n",
       "      <td>4</td>\n",
       "      <td>Newborn</td>\n",
       "    </tr>\n",
       "    <tr>\n",
       "      <th>4</th>\n",
       "      <td>5</td>\n",
       "      <td>Not Available</td>\n",
       "    </tr>\n",
       "  </tbody>\n",
       "</table>\n",
       "</div>"
      ],
      "text/plain": [
       "  admission_type_id    description\n",
       "0                 1      Emergency\n",
       "1                 2         Urgent\n",
       "2                 3       Elective\n",
       "3                 4        Newborn\n",
       "4                 5  Not Available"
      ]
     },
     "execution_count": 6,
     "metadata": {},
     "output_type": "execute_result"
    }
   ],
   "source": [
    "id_mappings.head() #displays the first 5 rows"
   ]
  },
  {
   "cell_type": "markdown",
   "id": "03ba3b69",
   "metadata": {},
   "source": [
    "Admission type id, Discharge Disposition Id, Admission Source ID are the major categorical columns present in the dataset, It is because they give us information about the patient's health when they arrived in the hospital, on what basis they were admitted because a person to be admitted becomes a patient when it falls under some category put by the hospital. Also the condition of the patient upon which they were discharged from the hospital."
   ]
  },
  {
   "cell_type": "code",
   "execution_count": 7,
   "id": "71e3ec7b",
   "metadata": {},
   "outputs": [
    {
     "data": {
      "text/plain": [
       "admission_type_id  discharge_disposition_id  admission_source_id\n",
       "1                  1                         1                      7167\n",
       "                                             2                      1028\n",
       "                                             3                       112\n",
       "                                             4                       908\n",
       "                                             5                       124\n",
       "Name: number_diagnoses, dtype: int64"
      ]
     },
     "execution_count": 7,
     "metadata": {},
     "output_type": "execute_result"
    }
   ],
   "source": [
    "grp_2=data.groupby(['admission_type_id','discharge_disposition_id','admission_source_id']).number_diagnoses.sum()\n",
    "grp_2.head()\n",
    "#This gives us a grouping of each admission_type_id and the discharge_disposition_id along with the sum of the \n",
    "#admission_source_id"
   ]
  },
  {
   "cell_type": "code",
   "execution_count": 8,
   "id": "d5c2f253",
   "metadata": {},
   "outputs": [
    {
     "name": "stdout",
     "output_type": "stream",
     "text": [
      "<class 'pandas.core.frame.DataFrame'>\n",
      "RangeIndex: 101766 entries, 0 to 101765\n",
      "Data columns (total 50 columns):\n",
      " #   Column                    Non-Null Count   Dtype \n",
      "---  ------                    --------------   ----- \n",
      " 0   encounter_id              101766 non-null  int64 \n",
      " 1   patient_nbr               101766 non-null  int64 \n",
      " 2   race                      101766 non-null  object\n",
      " 3   gender                    101766 non-null  object\n",
      " 4   age                       101766 non-null  object\n",
      " 5   weight                    101766 non-null  object\n",
      " 6   admission_type_id         101766 non-null  int64 \n",
      " 7   discharge_disposition_id  101766 non-null  int64 \n",
      " 8   admission_source_id       101766 non-null  int64 \n",
      " 9   time_in_hospital          101766 non-null  int64 \n",
      " 10  payer_code                101766 non-null  object\n",
      " 11  medical_specialty         101766 non-null  object\n",
      " 12  num_lab_procedures        101766 non-null  int64 \n",
      " 13  num_procedures            101766 non-null  int64 \n",
      " 14  num_medications           101766 non-null  int64 \n",
      " 15  number_outpatient         101766 non-null  int64 \n",
      " 16  number_emergency          101766 non-null  int64 \n",
      " 17  number_inpatient          101766 non-null  int64 \n",
      " 18  diag_1                    101766 non-null  object\n",
      " 19  diag_2                    101766 non-null  object\n",
      " 20  diag_3                    101766 non-null  object\n",
      " 21  number_diagnoses          101766 non-null  int64 \n",
      " 22  max_glu_serum             101766 non-null  object\n",
      " 23  A1Cresult                 101766 non-null  object\n",
      " 24  metformin                 101766 non-null  object\n",
      " 25  repaglinide               101766 non-null  object\n",
      " 26  nateglinide               101766 non-null  object\n",
      " 27  chlorpropamide            101766 non-null  object\n",
      " 28  glimepiride               101766 non-null  object\n",
      " 29  acetohexamide             101766 non-null  object\n",
      " 30  glipizide                 101766 non-null  object\n",
      " 31  glyburide                 101766 non-null  object\n",
      " 32  tolbutamide               101766 non-null  object\n",
      " 33  pioglitazone              101766 non-null  object\n",
      " 34  rosiglitazone             101766 non-null  object\n",
      " 35  acarbose                  101766 non-null  object\n",
      " 36  miglitol                  101766 non-null  object\n",
      " 37  troglitazone              101766 non-null  object\n",
      " 38  tolazamide                101766 non-null  object\n",
      " 39  examide                   101766 non-null  object\n",
      " 40  citoglipton               101766 non-null  object\n",
      " 41  insulin                   101766 non-null  object\n",
      " 42  glyburide-metformin       101766 non-null  object\n",
      " 43  glipizide-metformin       101766 non-null  object\n",
      " 44  glimepiride-pioglitazone  101766 non-null  object\n",
      " 45  metformin-rosiglitazone   101766 non-null  object\n",
      " 46  metformin-pioglitazone    101766 non-null  object\n",
      " 47  change                    101766 non-null  object\n",
      " 48  diabetesMed               101766 non-null  object\n",
      " 49  readmitted                101766 non-null  object\n",
      "dtypes: int64(13), object(37)\n",
      "memory usage: 38.8+ MB\n"
     ]
    }
   ],
   "source": [
    "data.info()\n",
    "#Using the info() function we get a concise summary of the dataframe"
   ]
  },
  {
   "cell_type": "markdown",
   "id": "6ff4ce72",
   "metadata": {},
   "source": [
    "Gives us the different unique values of every column in the dataset"
   ]
  },
  {
   "cell_type": "code",
   "execution_count": 9,
   "id": "e8adc173",
   "metadata": {},
   "outputs": [
    {
     "name": "stdout",
     "output_type": "stream",
     "text": [
      "encounter_id\n",
      "[  2278392    149190     64410 ... 443854148 443857166 443867222]\n",
      "\n",
      "\n",
      "patient_nbr\n",
      "[  8222157  55629189  86047875 ... 140199494 120975314 175429310]\n",
      "\n",
      "\n",
      "race\n",
      "['Caucasian' 'AfricanAmerican' '?' 'Other' 'Asian' 'Hispanic']\n",
      "\n",
      "\n",
      "gender\n",
      "['Female' 'Male' 'Unknown/Invalid']\n",
      "\n",
      "\n",
      "age\n",
      "['[0-10)' '[10-20)' '[20-30)' '[30-40)' '[40-50)' '[50-60)' '[60-70)'\n",
      " '[70-80)' '[80-90)' '[90-100)']\n",
      "\n",
      "\n",
      "weight\n",
      "['?' '[75-100)' '[50-75)' '[0-25)' '[100-125)' '[25-50)' '[125-150)'\n",
      " '[175-200)' '[150-175)' '>200']\n",
      "\n",
      "\n",
      "admission_type_id\n",
      "[6 1 2 3 4 5 8 7]\n",
      "\n",
      "\n",
      "discharge_disposition_id\n",
      "[25  1  3  6  2  5 11  7 10  4 14 18  8 13 12 16 17 22 23  9 20 15 24 28\n",
      " 19 27]\n",
      "\n",
      "\n",
      "admission_source_id\n",
      "[ 1  7  2  4  5  6 20  3 17  8  9 14 10 22 11 25 13]\n",
      "\n",
      "\n",
      "time_in_hospital\n",
      "[ 1  3  2  4  5 13 12  9  7 10  6 11  8 14]\n",
      "\n",
      "\n",
      "payer_code\n",
      "['?' 'MC' 'MD' 'HM' 'UN' 'BC' 'SP' 'CP' 'SI' 'DM' 'CM' 'CH' 'PO' 'WC' 'OT'\n",
      " 'OG' 'MP' 'FR']\n",
      "\n",
      "\n",
      "medical_specialty\n",
      "['Pediatrics-Endocrinology' '?' 'InternalMedicine'\n",
      " 'Family/GeneralPractice' 'Cardiology' 'Surgery-General' 'Orthopedics'\n",
      " 'Gastroenterology' 'Surgery-Cardiovascular/Thoracic' 'Nephrology'\n",
      " 'Orthopedics-Reconstructive' 'Psychiatry' 'Emergency/Trauma'\n",
      " 'Pulmonology' 'Surgery-Neuro' 'Obsterics&Gynecology-GynecologicOnco'\n",
      " 'ObstetricsandGynecology' 'Pediatrics' 'Hematology/Oncology'\n",
      " 'Otolaryngology' 'Surgery-Colon&Rectal' 'Pediatrics-CriticalCare'\n",
      " 'Endocrinology' 'Urology' 'Psychiatry-Child/Adolescent'\n",
      " 'Pediatrics-Pulmonology' 'Neurology' 'Anesthesiology-Pediatric'\n",
      " 'Radiology' 'Pediatrics-Hematology-Oncology' 'Psychology' 'Podiatry'\n",
      " 'Gynecology' 'Oncology' 'Pediatrics-Neurology' 'Surgery-Plastic'\n",
      " 'Surgery-Thoracic' 'Surgery-PlasticwithinHeadandNeck' 'Ophthalmology'\n",
      " 'Surgery-Pediatric' 'Pediatrics-EmergencyMedicine'\n",
      " 'PhysicalMedicineandRehabilitation' 'InfectiousDiseases' 'Anesthesiology'\n",
      " 'Rheumatology' 'AllergyandImmunology' 'Surgery-Maxillofacial'\n",
      " 'Pediatrics-InfectiousDiseases' 'Pediatrics-AllergyandImmunology'\n",
      " 'Dentistry' 'Surgeon' 'Surgery-Vascular' 'Osteopath'\n",
      " 'Psychiatry-Addictive' 'Surgery-Cardiovascular' 'PhysicianNotFound'\n",
      " 'Hematology' 'Proctology' 'Obstetrics' 'SurgicalSpecialty' 'Radiologist'\n",
      " 'Pathology' 'Dermatology' 'SportsMedicine' 'Speech' 'Hospitalist'\n",
      " 'OutreachServices' 'Cardiology-Pediatric' 'Perinatology'\n",
      " 'Neurophysiology' 'Endocrinology-Metabolism' 'DCPTEAM' 'Resident']\n",
      "\n",
      "\n",
      "num_lab_procedures\n",
      "[ 41  59  11  44  51  31  70  73  68  33  47  62  60  55  49  75  45  29\n",
      "  35  42  66  36  19  64  25  53  52  87  27  37  46  28  48  72  10   2\n",
      "  65  67  40  54  58  57  43  32  83  34  39  69  38  56  22  96  78  61\n",
      "  88  50   1  18  82   9  63  24  71  77  81  76  90  93   3 103  13  80\n",
      "  85  16  15  12  30  23  17  21  79  26   5  95  97  84  14  74 105  86\n",
      "  98  20   6  94   8 102 100   7  89  91  92   4 101  99 114 113 111 129\n",
      " 107 108 106 104 109 120 132 121 126 118]\n",
      "\n",
      "\n",
      "num_procedures\n",
      "[0 5 1 6 2 3 4]\n",
      "\n",
      "\n",
      "num_medications\n",
      "[ 1 18 13 16  8 21 12 28 17 11 15 31  2 23 19  7 20 14 10 22  9 27 25  4\n",
      " 32  6 30 26 24 33  5 39  3 29 61 40 46 41 36 34 35 50 43 42 37 51 38 45\n",
      " 54 52 49 62 55 47 44 53 48 57 59 56 60 63 58 70 67 64 69 65 68 66 81 79\n",
      " 75 72 74]\n",
      "\n",
      "\n",
      "number_outpatient\n",
      "[ 0  2  1  5  7  9  3  8  4 12 11  6 20 15 10 13 14 16 21 35 17 29 36 18\n",
      " 19 27 22 24 42 39 34 26 33 25 23 28 37 38 40]\n",
      "\n",
      "\n",
      "number_emergency\n",
      "[ 0  1  2  4  3  9  5  7  6  8 22 25 10 13 42 16 11 28 15 14 18 12 21 20\n",
      " 19 46 76 37 64 63 54 24 29]\n",
      "\n",
      "\n",
      "number_inpatient\n",
      "[ 0  1  2  3  6  5  4  7  8  9 15 10 11 14 12 13 17 16 21 18 19]\n",
      "\n",
      "\n",
      "diag_1\n",
      "['250.83' '276' '648' '8' '197' '414' '428' '398' '434' '250.7' '157'\n",
      " '518' '999' '410' '682' '402' '737' '572' 'V57' '189' '786' '427' '996'\n",
      " '277' '584' '462' '473' '411' '174' '486' '998' '511' '432' '626' '295'\n",
      " '196' '250.6' '618' '182' '845' '423' '808' '250.4' '722' '403' '250.11'\n",
      " '784' '707' '440' '151' '715' '997' '198' '564' '812' '38' '590' '556'\n",
      " '578' '250.32' '433' 'V58' '569' '185' '536' '255' '250.13' '599' '558'\n",
      " '574' '491' '560' '244' '250.03' '577' '730' '188' '824' '250.8' '332'\n",
      " '562' '291' '296' '510' '401' '263' '438' '70' '250.02' '493' '642' '625'\n",
      " '571' '738' '593' '250.42' '807' '456' '446' '575' '250.41' '820' '515'\n",
      " '780' '250.22' '995' '235' '250.82' '721' '787' '162' '724' '282' '514'\n",
      " 'V55' '281' '250.33' '530' '466' '435' '250.12' 'V53' '789' '566' '822'\n",
      " '191' '557' '733' '455' '711' '482' '202' '280' '553' '225' '154' '441'\n",
      " '250.81' '349' '?' '962' '592' '507' '386' '156' '200' '728' '348' '459'\n",
      " '426' '388' '607' '337' '82' '531' '596' '288' '656' '573' '492' '220'\n",
      " '516' '210' '922' '286' '885' '958' '661' '969' '250.93' '227' '112'\n",
      " '404' '823' '532' '416' '346' '535' '453' '250' '595' '211' '303'\n",
      " '250.01' '852' '218' '782' '540' '457' '285' '431' '340' '550' '54' '351'\n",
      " '601' '723' '555' '153' '443' '380' '204' '424' '241' '358' '694' '331'\n",
      " '345' '681' '447' '290' '158' '579' '436' '335' '309' '654' '805' '799'\n",
      " '292' '183' '78' '851' '458' '586' '311' '892' '305' '293' '415' '591'\n",
      " '794' '803' '79' '655' '429' '278' '658' '598' '729' '585' '444' '604'\n",
      " '727' '214' '552' '284' '680' '708' '41' '644' '481' '821' '413' '437'\n",
      " '968' '756' '632' '359' '275' '512' '781' '420' '368' '522' '294' '825'\n",
      " '135' '304' '320' '250.31' '669' '868' '496' '250.43' '826' '567' '3'\n",
      " '203' '53' '251' '565' '161' '495' '49' '250.1' '297' '663' '576' '355'\n",
      " '850' '287' '250.2' '611' '840' '350' '726' '537' '620' '180' '366' '783'\n",
      " '11' '751' '716' '250.3' '199' '464' '580' '836' '664' '283' '813' '966'\n",
      " '289' '965' '184' '480' '608' '333' '972' '212' '117' '788' '924' '959'\n",
      " '621' '238' '785' '714' '942' '250.23' '710' '47' '933' '508' '478' '844'\n",
      " '7' '736' '233' '42' '250.5' '397' '395' '201' '421' '253' '250.92' '600'\n",
      " '494' '977' '39' '659' '312' '614' '647' '652' '646' '274' '861' '425'\n",
      " '527' '451' '485' '217' '250.53' '442' '970' '193' '160' '322' '581'\n",
      " '475' '623' '374' '582' '568' '465' '801' '237' '376' '150' '461' '913'\n",
      " '226' '617' '987' '641' '298' '790' '336' '362' '228' '513' '383' '746'\n",
      " '353' '911' '506' '873' '155' '860' '534' '802' '141' 'V45' '396' '310'\n",
      " '341' '242' '719' '239' '533' '616' '519' '301' 'V66' '5' '989' '230'\n",
      " '385' '300' '853' '871' '570' '848' '463' '9' '934' '250.21' '236' '361'\n",
      " '594' '501' '810' '643' '430' '528' '205' '791' '983' '992' '490' '172'\n",
      " '171' '622' '306' '863' '864' '474' '660' '759' '356' '634' '967' '551'\n",
      " '695' '187' '732' '747' '323' '308' '370' '252' '152' '846' '164' '365'\n",
      " '718' '48' '266' '720' '94' '344' '797' '170' '878' '904' 'V56' '882'\n",
      " '843' '709' '973' '454' '686' '939' '487' '229' '991' '483' '357' '692'\n",
      " '796' '693' '935' '936' '800' '920' 'V26' '261' '307' '262' '250.9' '831'\n",
      " '145' '223' 'V71' '839' '685' 'V54' '35' '34' '179' '964' '136' '324'\n",
      " '389' '815' '334' '143' '526' '588' '192' 'V67' '394' '917' '88' '219'\n",
      " '325' '792' '717' '994' '990' '793' '207' '637' '195' '373' '847' '827'\n",
      " '31' '891' '814' 'V60' '703' '865' '352' '627' '378' '342' '886' '369'\n",
      " '745' '705' '816' '541' '986' '610' '633' '640' '753' '173' '835' '379'\n",
      " '445' '272' '382' '945' '619' '881' '250.52' '866' '405' '916' '215'\n",
      " '893' '75' '671' '928' '906' '897' '725' '867' '115' '890' '734' '521'\n",
      " '674' '470' '834' '146' '696' '524' '980' '691' '384' '142' '879'\n",
      " '250.51' '246' '208' '448' '955' '653' '149' '245' '735' '883' '854'\n",
      " '952' '838' '194' 'V43' '163' '216' '147' '354' '27' '477' '318' '880'\n",
      " '921' '377' '471' '683' '175' '602' '250.91' '982' '706' '375' '417'\n",
      " '131' '347' '870' '148' '862' '61' '817' '914' '360' '684' '314' 'V63'\n",
      " '36' '57' '240' '915' '971' '795' '988' '452' '963' '327' '731' '842'\n",
      " 'V25' '645' '665' '110' '944' '603' '923' '412' '363' '957' '976' '698'\n",
      " '299' '700' '273' '974' '97' '529' '66' '98' '605' '941' '52' '806' '84'\n",
      " '271' '837' '657' '895' '338' '523' '542' '114' '543' '372' 'V70' 'E909'\n",
      " '583' 'V07' '422' '615' '279' '500' '903' '919' '875' '381' '804' '704'\n",
      " '23' '58' '649' '832' '133' '975' '833' '391' '690' '10' 'V51']\n",
      "\n",
      "\n",
      "diag_2\n",
      "['?' '250.01' '250' '250.43' '157' '411' '492' '427' '198' '403' '288'\n",
      " '998' '507' '174' '425' '456' '401' '715' '496' '428' '585' '250.02'\n",
      " '410' '999' '996' '135' '244' '41' '571' '276' '997' '599' '424' '491'\n",
      " '553' '707' '286' '440' '493' '242' '70' 'V45' '250.03' '357' '511' '196'\n",
      " '396' '197' '414' '250.52' '577' '535' '413' '285' '53' '780' '518' '150'\n",
      " '566' '250.6' '867' '486' 'V15' '8' '788' '340' '574' '581' '228' '530'\n",
      " '250.82' '786' '294' '567' '785' '512' '305' '729' '250.51' '280' '648'\n",
      " '560' '618' '444' '38' 'V10' '578' '277' '781' '250.42' '278' '426' '584'\n",
      " '462' '402' '153' '272' '733' '34' '881' '203' '250.41' '250.13' '293'\n",
      " '245' '250.12' '558' '787' '342' '573' '626' '303' '250.53' '458' '710'\n",
      " '415' 'V42' '284' '569' '759' '682' '112' '292' '435' '290' '250.93'\n",
      " '642' '536' '398' '319' '711' 'E878' '446' '255' 'V44' '250.7' '784'\n",
      " '300' '562' '162' '287' '447' '789' '790' '591' '200' '154' '304' '117'\n",
      " '847' '852' '250.83' '250.11' '816' '575' '416' '412' '441' '515' '372'\n",
      " '482' '382' 'V65' '572' '283' '78' '250.81' '576' '432' '595' '295' 'V12'\n",
      " '204' '466' '721' '434' '590' '271' '813' '368' '227' '783' '250.5' '258'\n",
      " '253' '309' '250.91' '519' '333' '459' '250.92' '250.4' '179' '420' '345'\n",
      " '433' '661' '537' '205' '722' '405' '437' '714' '211' 'E812' '263' '202'\n",
      " '397' '250.23' 'E932' '201' '301' '723' '614' '568' '861' 'V57' '724'\n",
      " '189' '297' '453' 'E888' '730' '354' '451' '738' 'E939' '805' 'V43' '155'\n",
      " '910' '218' '358' '220' 'E937' '583' '958' '794' '564' '436' '250.22'\n",
      " '620' '621' '331' '617' '596' '314' '378' '250.8' '625' '478' '731' '172'\n",
      " '404' '681' '470' '279' '281' '531' '443' '799' '337' '311' '719' 'E944'\n",
      " '423' 'E870' '465' 'E849' '782' '481' '480' 'V23' '199' '79' '438' '348'\n",
      " '42' 'E950' '473' '627' '726' '54' '490' '317' '332' '508' '369' '600'\n",
      " '349' '485' '208' '922' '431' '296' 'E934' '753' 'E935' '386' '728' '607'\n",
      " 'E915' '344' '716' '289' '191' '873' '850' '611' '377' '352' '616' 'V17'\n",
      " '136' '455' '933' 'E885' '860' '513' '603' '484' '223' 'V72' '291' '151'\n",
      " 'V58' '550' '510' '891' '185' '592' '791' '138' '598' '336' '362' '217'\n",
      " '825' '298' '821' 'E880' '343' '429' 'E879' '579' '225' '250.9' 'V49'\n",
      " '696' '233' '658' '969' '275' '250.1' '601' '704' '808' 'E890' 'V18'\n",
      " '920' '380' '570' 'E817' '359' '812' '274' 'V14' '324' '758' 'V66' '911'\n",
      " 'E931' 'E924' '593' '792' '727' 'V46' '394' '532' 'V64' '557' '864' '718'\n",
      " 'E942' '807' '604' '924' '820' '580' '273' '241' '282' '824' 'V61' '646'\n",
      " '701' '736' '565' '383' '250.2' 'E947' '452' '872' '905' 'E930' '921'\n",
      " '131' '448' '389' '421' '214' '705' '494' '752' '623' '9' '299' '959'\n",
      " '365' '967' 'E858' '40' '691' '909' '5' '814' '746' '250.31' '556' '680'\n",
      " '745' '351' '306' '110' '695' '552' '346' '918' '882' '947' '520' '188'\n",
      " '31' '356' '737' 'V08' '322' '182' '517' '974' 'E929' 'V53' '912' '252'\n",
      " '608' '516' 'E933' '94' '702' '923' '594' '647' '111' '934' '430' '487'\n",
      " '709' '796' '156' '977' '915' '756' '840' '341' '259' '693' '725' 'V62'\n",
      " '528' '683' '953' '457' '501' 'E900' 'V09' '522' '919' '461' '506' '193'\n",
      " '483' 'E936' '717' '802' '335' 'V54' '320' '945' '906' '239' '454' '826'\n",
      " '823' 'E941' '226' '795' '684' '844' '250.33' '308' '615' '588' '712'\n",
      " '663' '706' '833' '741' '713' '533' 'E884' '586' '555' '755' 'E928' '742'\n",
      " '869' '962' 'V11' '543' '373' '870' '913' '152' '810' '965' '907' '908'\n",
      " '995' '845' '474' '442' '751' '323' '472' '464' '686' '250.32' '540'\n",
      " '251' '811' '652' '659' '851' '422' '815' '307' '325' '463' '992' '692'\n",
      " '521' '917' 'E965' '524' '916' 'E813' '173' '238' '137' '514' '312' '837'\n",
      " '355' '980' '622' '475' '500' '754' '261' '801' '868' '968' '381' '11'\n",
      " '250.21' '694' '610' '734' 'E814' '310' '130' '246' '892' '846' '634'\n",
      " '75' 'E927' 'E905' '183' '379' 'E917' '163' 'E868' '495' '747' '989'\n",
      " 'E854' '240' '832' '605' '602' '644' 'V16' '35' 'V70' '376' '266' 'E918'\n",
      " '619' '477' '656' '46' '883' '171' 'V13' '698' '842' 'E850' '800' '269'\n",
      " '664' 'E887' '952' '164' 'E881' '527' '685' '366' '836' '27' 'V63' '865'\n",
      " '793' '232' '990' '52' '831' '327' '542' '806' '972' '862' 'E829' 'E919'\n",
      " '944' 'E916' '963' '316' '645' '347' 'V85' '374' 'V02' '748' '256' '186'\n",
      " '866' '975' '96' '395' '262' 'E819' '654' '994' '318' 'E826' '879' '674'\n",
      " '641' '822' '145' '797' '353' 'E938' 'E816' '948' '987' '99' '192'\n",
      " '250.3' 'E906' '534' '115' 'E818' 'E980' '360' '338' '529' '871' '750'\n",
      " '212' '302' '955' '141' '88' 'V25' '215' '350' 'V50' 'V03' 'E853' 'E968'\n",
      " 'E882' '140' '703' '991' '893' 'E821' '235' 'V69' '670' '195' 'V55' '388'\n",
      " '268' '894' '114' '260' '853' '7' '880' 'V86' '180' 'E945' '523' '863'\n",
      " '649' '270' '665' '460' '942' '364' '66' 'E883' '123' '884' 'V60' '843'\n",
      " '927']\n",
      "\n",
      "\n",
      "diag_3\n",
      "['?' '255' 'V27' '403' '250' 'V45' '38' '486' '996' '197' '250.6' '427'\n",
      " '627' '414' '416' '714' '428' '582' 'V43' '250.01' '263' '250.42' '276'\n",
      " '482' '401' '250.41' '585' '781' '278' '998' '568' '682' '618' '250.02'\n",
      " '305' '707' '496' '599' '715' '424' '518' '553' '794' '411' 'V42' '531'\n",
      " '511' '490' '562' '250.8' '250.7' '250.52' '784' '491' '581' '420' '8'\n",
      " '724' '730' '789' '131' '250.82' '999' '41' '493' '250.03' '753' '786'\n",
      " '529' 'E888' '425' '595' '303' '560' '711' '492' '332' '296' '438' '362'\n",
      " '250.4' '654' '244' 'V70' '737' '625' '681' '250.51' '404' 'V10' '810'\n",
      " '280' '440' '785' '588' '569' '272' '997' '250.43' '918' '584' '54' '788'\n",
      " '426' '722' '250.92' '196' '461' '535' '787' '891' '284' '458' '648'\n",
      " '780' '182' '285' '593' '413' '664' '564' '201' '356' 'V15' '292' '782'\n",
      " '473' '455' 'E932' '357' '348' '294' '250.23' '459' 'E878' '437' '733'\n",
      " '507' '525' '250.53' '397' '572' '805' '453' '331' '736' '402' '591'\n",
      " '576' '465' '533' '703' '349' '315' '658' '608' '578' '716' '382' '300'\n",
      " '282' '571' '536' '596' '287' '644' 'V11' '558' 'E885' '162' '198' '218'\n",
      " '412' '396' 'V14' '570' '433' 'E934' '882' '288' '577' '443' '729' '836'\n",
      " '295' '799' '281' '304' '153' '410' '616' '250.83' '601' '291' '75' '512'\n",
      " '660' '250.5' '598' '337' '574' '653' 'V58' '311' '415' '386' '602' '790'\n",
      " '112' '873' '620' '436' '70' '155' '138' '663' '530' '710' '42' '342'\n",
      " '250.91' 'E884' '515' '307' '704' '728' '731' '583' '238' '441' '293'\n",
      " '573' '532' '290' '594' '319' '250.13' '250.12' '519' '346' '380' '135'\n",
      " '642' '698' '924' '905' 'E933' '555' '309' 'E879' '286' '565' '752' '580'\n",
      " '446' '444' '344' '252' '35' '813' '394' '301' '575' '258' 'V17' '802'\n",
      " '435' '746' 'V12' '709' '881' 'E935' '139' '250.81' '718' '365' '202'\n",
      " '334' '185' '398' 'V44' '517' 'E849' '614' '466' '626' '250.9' '368'\n",
      " '605' '883' '289' '478' '617' '429' '442' 'V25' '866' '610' '557' '959'\n",
      " 'E942' '94' '920' '345' '313' '379' '79' '516' '586' '821' '600' '242'\n",
      " '373' '592' 'V64' '487' '253' '706' 'E947' '117' '340' 'E950' '656'\n",
      " 'E949' '590' 'V09' '250.22' '934' '694' '203' '250.93' '995' '726' '923'\n",
      " '958' '275' 'E929' '211' 'V18' 'V66' '199' '665' '53' '279' '522' '791'\n",
      " '890' '456' 'E938' 'E816' '122' '721' 'V65' '136' '480' '423' 'E920'\n",
      " '793' '647' '537' '351' '845' '336' '274' '719' '945' '434' '494' '227'\n",
      " '157' '208' '174' 'V57' '812' '734' '150' 'V23' '447' '692' '228' 'V16'\n",
      " '756' '405' 'E928' '823' '552' '528' '389' '240' '454' '792' '366' 'E939'\n",
      " '907' '270' '310' '266' '387' 'E931' '783' '245' '607' '355' 'E930' '705'\n",
      " '372' '369' '611' '283' 'V46' '110' '867' 'E956' '251' '250.2' '820'\n",
      " '712' '695' '567' '343' '723' 'V08' '273' '623' '807' '451' '495' '701'\n",
      " '34' 'V53' '314' '472' 'E945' '11' '189' '534' '354' '333' 'V54' '277'\n",
      " '659' '708' '452' '655' '816' '670' '621' '246' '953' '865' 'E817' '646'\n",
      " '151' '378' '78' '298' '840' '641' '521' '745' '619' '912' '506' 'E904'\n",
      " '259' 'E870' 'E980' '383' '204' '696' '566' '727' '47' 'E943' '358' '191'\n",
      " '965' '921' '432' '27' 'E861' '758' '477' '524' '751' '652' '556' '188'\n",
      " '825' '919' '732' '908' '951' '962' '685' 'E850' 'E944' '527' '341' '693'\n",
      " '250.1' 'V49' '860' '323' 'V55' '579' '508' '969' '205' '462' 'E880'\n",
      " '680' '697' '826' '200' '457' '717' '738' '742' '735' '235' '308' '725'\n",
      " '241' '824' '464' '260' '917' '239' '661' '892' '261' 'E883' '943' '744'\n",
      " 'E936' '796' '318' '967' '350' '854' 'E905' '9' '741' 'E941' '170' '643'\n",
      " '317' '759' '909' 'V22' '831' '713' '180' '801' '360' '359' '501' '335'\n",
      " '250.11' '306' '811' '690' 'V02' '271' '214' '847' '543' 'V63' '906'\n",
      " '842' '686' '445' '808' '861' 'E852' '220' 'E887' 'E858' '915' '970'\n",
      " '256' '747' '395' '243' '815' '481' '5' 'E927' '297' '299' '851' '864'\n",
      " '922' '384' 'E876' '225' '158' 'E937' '871' '88' '966' 'E917' 'E812'\n",
      " 'V62' 'E924' '604' '233' 'E916' '377' '797' 'V72' '172' '7' '421' '852'\n",
      " 'E819' '972' '916' '956' '3' 'E965' '173' '193' '154' '347' '862' '250.3'\n",
      " '987' '470' '262' 'E855' '161' '115' '179' '910' '312' '17' '460' '265'\n",
      " '66' '163' 'V60' '870' 'E906' '514' '944' '844' '417' '152' '183' '991'\n",
      " '216' '385' '164' '935' '510' '814' '485' '850' '250.21' 'E919' '872'\n",
      " '195' '431' '597' '933' '171' '884' '156' '868' '483' 'E815' '542' 'V61'\n",
      " '853' '374' 'E881' 'E882' 'E822' '192' '754' '327' '523' '500' 'V85'\n",
      " '992' '657' '684' '603' 'E826' '550' '913' '376' '755' '361' '186' '720'\n",
      " '250.31' '674' '911' 'E813' '226' '365.44' 'E818' '146' '955' 'E894'\n",
      " '475' 'V13' '880' '930' 'E915' '381' '132' '353' '795' '893' 'V01' 'E853'\n",
      " '863' '540' 'E828' '430' '800' 'E865' '148' 'E946' '822' '879' '848'\n",
      " 'V86' 'V03' '338' '989' '388' 'E966' '111' 'E922' '123' '757' 'E901'\n",
      " '141' '268' 'E892' '649' '702' '948' '223' '484' 'E886' '838' '928' '236'\n",
      " '624' '837' 'E987' 'V07' '841' '622' 'E912' 'E955' '463' 'V06' 'E864'\n",
      " '217' '877' '391' 'E825' '952' '669' '875' 'E900' '215' '538' '980' '834'\n",
      " '448' '175' '49' '876' '230' '57' 'E854' '942' '14' '750' '370' '671'\n",
      " '971']\n",
      "\n",
      "\n",
      "number_diagnoses\n",
      "[ 1  9  6  7  5  8  3  4  2 16 12 13 15 10 11 14]\n",
      "\n",
      "\n",
      "max_glu_serum\n",
      "['None' '>300' 'Norm' '>200']\n",
      "\n",
      "\n",
      "A1Cresult\n",
      "['None' '>7' '>8' 'Norm']\n",
      "\n",
      "\n",
      "metformin\n",
      "['No' 'Steady' 'Up' 'Down']\n",
      "\n",
      "\n",
      "repaglinide\n",
      "['No' 'Up' 'Steady' 'Down']\n",
      "\n",
      "\n",
      "nateglinide\n",
      "['No' 'Steady' 'Down' 'Up']\n",
      "\n",
      "\n",
      "chlorpropamide\n",
      "['No' 'Steady' 'Down' 'Up']\n",
      "\n",
      "\n",
      "glimepiride\n",
      "['No' 'Steady' 'Down' 'Up']\n",
      "\n",
      "\n",
      "acetohexamide\n",
      "['No' 'Steady']\n",
      "\n",
      "\n",
      "glipizide\n",
      "['No' 'Steady' 'Up' 'Down']\n",
      "\n",
      "\n",
      "glyburide\n",
      "['No' 'Steady' 'Up' 'Down']\n",
      "\n",
      "\n",
      "tolbutamide\n",
      "['No' 'Steady']\n",
      "\n",
      "\n",
      "pioglitazone\n",
      "['No' 'Steady' 'Up' 'Down']\n",
      "\n",
      "\n",
      "rosiglitazone\n",
      "['No' 'Steady' 'Up' 'Down']\n",
      "\n",
      "\n",
      "acarbose\n",
      "['No' 'Steady' 'Up' 'Down']\n",
      "\n",
      "\n",
      "miglitol\n",
      "['No' 'Steady' 'Down' 'Up']\n",
      "\n",
      "\n",
      "troglitazone\n",
      "['No' 'Steady']\n",
      "\n",
      "\n",
      "tolazamide\n",
      "['No' 'Steady' 'Up']\n",
      "\n",
      "\n",
      "examide\n",
      "['No']\n",
      "\n",
      "\n",
      "citoglipton\n",
      "['No']\n",
      "\n",
      "\n",
      "insulin\n",
      "['No' 'Up' 'Steady' 'Down']\n",
      "\n",
      "\n",
      "glyburide-metformin\n",
      "['No' 'Steady' 'Down' 'Up']\n",
      "\n",
      "\n",
      "glipizide-metformin\n",
      "['No' 'Steady']\n",
      "\n",
      "\n",
      "glimepiride-pioglitazone\n",
      "['No' 'Steady']\n",
      "\n",
      "\n",
      "metformin-rosiglitazone\n",
      "['No' 'Steady']\n",
      "\n",
      "\n",
      "metformin-pioglitazone\n",
      "['No' 'Steady']\n",
      "\n",
      "\n",
      "change\n",
      "['No' 'Ch']\n",
      "\n",
      "\n",
      "diabetesMed\n",
      "['No' 'Yes']\n",
      "\n",
      "\n",
      "readmitted\n",
      "['NO' '>30' '<30']\n",
      "\n",
      "\n"
     ]
    }
   ],
   "source": [
    "for col in data:\n",
    "    print(col)\n",
    "    print(data[col].unique())\n",
    "    print('\\n')\n",
    "    \n"
   ]
  },
  {
   "cell_type": "markdown",
   "id": "f3a3dd44",
   "metadata": {},
   "source": [
    "## DATA CLEANING"
   ]
  },
  {
   "cell_type": "markdown",
   "id": "53fb2f26",
   "metadata": {},
   "source": [
    "The Dataset we received had an abundance of empty values signified as '?'. Converting the '?' in the dataframe to a NA to get uniformity in the dataset so it is easier to clean the NA values"
   ]
  },
  {
   "cell_type": "code",
   "execution_count": 10,
   "id": "2f21ab9c",
   "metadata": {},
   "outputs": [],
   "source": [
    "data =  data.replace('?',np.nan)\n"
   ]
  },
  {
   "cell_type": "markdown",
   "id": "288e494a",
   "metadata": {},
   "source": [
    "We can see the number of NA values in each dataset"
   ]
  },
  {
   "cell_type": "code",
   "execution_count": 11,
   "id": "bd18eb51",
   "metadata": {},
   "outputs": [
    {
     "data": {
      "text/plain": [
       "encounter_id                  0\n",
       "patient_nbr                   0\n",
       "race                       2273\n",
       "gender                        0\n",
       "age                           0\n",
       "                           ... \n",
       "metformin-rosiglitazone       0\n",
       "metformin-pioglitazone        0\n",
       "change                        0\n",
       "diabetesMed                   0\n",
       "readmitted                    0\n",
       "Length: 50, dtype: int64"
      ]
     },
     "execution_count": 11,
     "metadata": {},
     "output_type": "execute_result"
    }
   ],
   "source": [
    "data.isnull().sum()\n"
   ]
  },
  {
   "cell_type": "markdown",
   "id": "f555e85a",
   "metadata": {},
   "source": [
    "Now since every column has a unique meaning, we prefer to remove the NA values in a friendly way, for some columns  like race,medical speciality,diagnosis1,diagnosis2,diagnosis3 the  ? which were converted to NA can have significant meaning with the data . Thus we would not remove the entries, ie the rows in which ? is present for the above mentioned columns. Here we are filling all the NA values with 'Unknown'"
   ]
  },
  {
   "cell_type": "code",
   "execution_count": 12,
   "id": "8ae792ef",
   "metadata": {},
   "outputs": [],
   "source": [
    "#Converting NAs to 'Unknown' categories\n",
    "data['race'] = data['race'].replace(np.nan,'Unknown')"
   ]
  },
  {
   "cell_type": "code",
   "execution_count": 13,
   "id": "3836b8ed",
   "metadata": {},
   "outputs": [],
   "source": [
    "data['payer_code'] = data['payer_code'].fillna('Unknown')\n",
    "data['medical_specialty'] = data['medical_specialty'].fillna('Unknown')\n",
    "data['diag_1'] = data['diag_1'].fillna('Unknown')\n",
    "data['diag_2'] = data['diag_2'].fillna('Unknown')\n",
    "data['diag_3'] = data['diag_3'].fillna('Unknown')"
   ]
  },
  {
   "cell_type": "markdown",
   "id": "290af7c5",
   "metadata": {},
   "source": [
    "Now Weight is a different issue because there are around 97% of missing values in the 'weight' column, we drop the column from the dataframe"
   ]
  },
  {
   "cell_type": "code",
   "execution_count": 14,
   "id": "13da3e31",
   "metadata": {},
   "outputs": [
    {
     "name": "stderr",
     "output_type": "stream",
     "text": [
      "/tmp/ipykernel_54/821518313.py:1: FutureWarning: In a future version of pandas all arguments of DataFrame.drop except for the argument 'labels' will be keyword-only\n",
      "  data = data.drop('weight', 1)\n"
     ]
    }
   ],
   "source": [
    "data = data.drop('weight', 1)"
   ]
  },
  {
   "cell_type": "markdown",
   "id": "f5299da0",
   "metadata": {},
   "source": [
    "Here we are rechecking the data to verify that all NA values have been handled."
   ]
  },
  {
   "cell_type": "code",
   "execution_count": 15,
   "id": "4d5d1264",
   "metadata": {},
   "outputs": [
    {
     "data": {
      "text/plain": [
       "encounter_id               0\n",
       "patient_nbr                0\n",
       "race                       0\n",
       "gender                     0\n",
       "age                        0\n",
       "                          ..\n",
       "metformin-rosiglitazone    0\n",
       "metformin-pioglitazone     0\n",
       "change                     0\n",
       "diabetesMed                0\n",
       "readmitted                 0\n",
       "Length: 49, dtype: int64"
      ]
     },
     "execution_count": 15,
     "metadata": {},
     "output_type": "execute_result"
    }
   ],
   "source": [
    "data.isnull().sum()"
   ]
  },
  {
   "cell_type": "markdown",
   "id": "ce5293fd",
   "metadata": {},
   "source": [
    "## DATA TRANSFORMATION"
   ]
  },
  {
   "cell_type": "markdown",
   "id": "3f01b9ab",
   "metadata": {},
   "source": [
    "Creating a copy of the dataset into a new dataframe called 'newData'"
   ]
  },
  {
   "cell_type": "code",
   "execution_count": 16,
   "id": "4cf3b7b0",
   "metadata": {},
   "outputs": [],
   "source": [
    "newData= data.copy()\n"
   ]
  },
  {
   "cell_type": "markdown",
   "id": "155f3619",
   "metadata": {},
   "source": [
    "We had a second csv file where there were meanings and explanation for the important categories discharge_id, admission_id,admission_source_id. But it was not a good format CSV file thus we created dictionary variables for all three of them. Then we used the REPLACE function which replaced the correspondings IDs value present with the corresponding explanation referencing the dictionary variable mentioned. The dictionary objects used below are discharge_description,admission_description,admission_source_description."
   ]
  },
  {
   "cell_type": "code",
   "execution_count": 17,
   "id": "4cd38981",
   "metadata": {},
   "outputs": [],
   "source": [
    "discharge_description ={\n",
    "1:\t 'Discharged to home',2:\t 'Discharged/transferred to another short term hospital',3:\t 'Discharged/transferred to SNF',4:\t 'Discharged/transferred to ICF',5:\t 'Discharged/transferred to another type of inpatient care institution',6:\t 'Discharged/transferred to home with home health service',7:\t 'Left AMA',8:\t 'Discharged/transferred to home under care of Home IV provider',9:\t 'Admitted as an inpatient to this hospital',10:\t 'Neonate discharged to another hospital for neonatal aftercare',11:\t 'Expired',12:\t 'Still patient or expected to return for outpatient services',13:\t 'Hospice / home',14:\t 'Hospice / medical facility',15:\t 'Discharged/transferred within this institution to Medicare approved swing bed',16:\t 'Discharged/transferred/referred another institution for outpatient services',17:\t 'Discharged/transferred/referred to this institution for outpatient services',18:\t 'NULL',19:\t 'Expired at home. Medicaid only, hospice.',20:\t 'Expired in a medical facility. Medicaid only, hospice.',21:\t 'Expired, place unknown. Medicaid only, hospice.',22:\t 'Discharged/transferred to another rehab fac including rehab units of a hospital .',23:\t 'Discharged/transferred to a long term care hospital.',24:\t 'Discharged/transferred to a nursing facility certified under Medicaid but not certified under Medicare.',25:\t 'Not Mapped',26:\t 'Unknown/Invalid',30:\t 'Discharged/transferred to another Type of Health Care Institution not Defined Elsewhere',27:\t 'Discharged/transferred to a federal health care facility.',28:\t 'Discharged/transferred/referred to a psychiatric hospital of psychiatric distinct part unit of a hospital',29:\t 'Discharged/transferred to a Critical Access Hospital (CAH).'}\n",
    "#The different categories of 'discharge_disposition_id'"
   ]
  },
  {
   "cell_type": "code",
   "execution_count": 18,
   "id": "fecc12fa",
   "metadata": {},
   "outputs": [],
   "source": [
    "newData['discharge_disposition_id'].replace(discharge_description,inplace=True)\n",
    "#Mapping discharge_description to it's particular category"
   ]
  },
  {
   "cell_type": "markdown",
   "id": "fd82027b",
   "metadata": {},
   "source": [
    "We read the unique values which were replaced in the discharge disposition id to comprehend the meaning of the data"
   ]
  },
  {
   "cell_type": "code",
   "execution_count": 19,
   "id": "922c3ef8",
   "metadata": {},
   "outputs": [
    {
     "data": {
      "text/plain": [
       "array(['Not Mapped', 'Discharged to home',\n",
       "       'Discharged/transferred to SNF',\n",
       "       'Discharged/transferred to home with home health service',\n",
       "       'Discharged/transferred to another short term hospital',\n",
       "       'Discharged/transferred to another type of inpatient care institution',\n",
       "       'Expired', 'Left AMA',\n",
       "       'Neonate discharged to another hospital for neonatal aftercare',\n",
       "       'Discharged/transferred to ICF', 'Hospice / medical facility',\n",
       "       'NULL',\n",
       "       'Discharged/transferred to home under care of Home IV provider',\n",
       "       'Hospice / home',\n",
       "       'Still patient or expected to return for outpatient services',\n",
       "       'Discharged/transferred/referred another institution for outpatient services',\n",
       "       'Discharged/transferred/referred to this institution for outpatient services',\n",
       "       'Discharged/transferred to another rehab fac including rehab units of a hospital .',\n",
       "       'Discharged/transferred to a long term care hospital.',\n",
       "       'Admitted as an inpatient to this hospital',\n",
       "       'Expired in a medical facility. Medicaid only, hospice.',\n",
       "       'Discharged/transferred within this institution to Medicare approved swing bed',\n",
       "       'Discharged/transferred to a nursing facility certified under Medicaid but not certified under Medicare.',\n",
       "       'Discharged/transferred/referred to a psychiatric hospital of psychiatric distinct part unit of a hospital',\n",
       "       'Expired at home. Medicaid only, hospice.',\n",
       "       'Discharged/transferred to a federal health care facility.'],\n",
       "      dtype=object)"
      ]
     },
     "execution_count": 19,
     "metadata": {},
     "output_type": "execute_result"
    }
   ],
   "source": [
    "newData['discharge_disposition_id'].unique()\n",
    "#Viewing the 24 unique categories of 'discharge_disposition_id'"
   ]
  },
  {
   "cell_type": "code",
   "execution_count": 20,
   "id": "c5d3178f",
   "metadata": {},
   "outputs": [],
   "source": [
    "admission_description= {\n",
    "1:'Emergency',\n",
    "2:'Urgent',\n",
    "3:'Elective',\n",
    "4:'Newborn',\n",
    "5:'Not Available',\n",
    "6:'NULL',\n",
    "7:'Trauma Center',\n",
    "8:'Not Mapped'\n",
    "}\n",
    "#The different categories of 'admission_type_id'"
   ]
  },
  {
   "cell_type": "code",
   "execution_count": 21,
   "id": "7c52df85",
   "metadata": {},
   "outputs": [],
   "source": [
    "newData['admission_type_id'].replace(admission_description,inplace=True)\n",
    "#Mapping admission_description to it's particular category"
   ]
  },
  {
   "cell_type": "code",
   "execution_count": 22,
   "id": "06151f6d",
   "metadata": {},
   "outputs": [
    {
     "data": {
      "text/plain": [
       "array(['NULL', 'Emergency', 'Urgent', 'Elective', 'Newborn',\n",
       "       'Not Available', 'Not Mapped', 'Trauma Center'], dtype=object)"
      ]
     },
     "execution_count": 22,
     "metadata": {},
     "output_type": "execute_result"
    }
   ],
   "source": [
    "newData['admission_type_id'].unique()\n",
    "#Viewing the 24 unique categories of 'admission_type_id'"
   ]
  },
  {
   "cell_type": "code",
   "execution_count": 23,
   "id": "1dc2d72a",
   "metadata": {},
   "outputs": [],
   "source": [
    "admission_source_description = {\n",
    "1:'Physician Referral',\n",
    "2:'Clinic Referral',\n",
    "3:'HMO Referral',\n",
    "4:'Transfer from a hospital',\n",
    "5:'Transfer from a Skilled Nursing Facility (SNF)',\n",
    "6:'Transfer from another health care facility',\n",
    "7:'Emergency Room',\n",
    "8:'Court/Law Enforcement',\n",
    "9:'Not Available',\n",
    "10:'Transfer from critial access hospital',\n",
    "11:'Normal Delivery',\n",
    "12:'Premature Delivery',\n",
    "13:'Sick Baby',\n",
    "14:'Extramural Birth',\n",
    "15:'Not Available',\n",
    "17:'NULL',\n",
    "18:'Transfer From Another Home Health Agency',\n",
    "19:'Readmission to Same Home Health Agency',\n",
    "20:'Not Mapped',\n",
    "21:'Unknown/Invalid',\n",
    "22:'Transfer from hospital inpt/same fac reslt in a sep claim',\n",
    "23:'Born inside this hospital',\n",
    "24:'Born outside this hospital',\n",
    "25:'Transfer from Ambulatory Surgery Center',\n",
    "26:'Transfer from Hospice'\n",
    "}\n",
    "#The different categories of 'admission_source_id'"
   ]
  },
  {
   "cell_type": "code",
   "execution_count": 24,
   "id": "cb9b7b1f",
   "metadata": {},
   "outputs": [],
   "source": [
    "newData['admission_source_id'].replace(admission_source_description,inplace=True)\n",
    "#Mapping admission_source_description to it's particular category"
   ]
  },
  {
   "cell_type": "code",
   "execution_count": 25,
   "id": "309914a6",
   "metadata": {
    "scrolled": true
   },
   "outputs": [
    {
     "data": {
      "text/plain": [
       "array(['Physician Referral', 'Emergency Room', 'Clinic Referral',\n",
       "       'Transfer from a hospital',\n",
       "       'Transfer from a Skilled Nursing Facility (SNF)',\n",
       "       'Transfer from another health care facility', 'Not Mapped',\n",
       "       'HMO Referral', 'NULL', 'Court/Law Enforcement', 'Not Available',\n",
       "       'Extramural Birth', 'Transfer from critial access hospital',\n",
       "       'Transfer from hospital inpt/same fac reslt in a sep claim',\n",
       "       'Normal Delivery', 'Transfer from Ambulatory Surgery Center',\n",
       "       'Sick Baby'], dtype=object)"
      ]
     },
     "execution_count": 25,
     "metadata": {},
     "output_type": "execute_result"
    }
   ],
   "source": [
    "newData['admission_source_id'].unique()\n",
    "#Viewing the 24 unique categories of 'admission_type_id'"
   ]
  },
  {
   "cell_type": "markdown",
   "id": "17d78707",
   "metadata": {},
   "source": [
    "Categorical variables correspond to categorical variables in statistics. A Categorical variables usually takes in a fixed and a limited number of possible values. In Constrast to statistical categorical variables, categorical data might have an order  but numerical operations like division, multiplications are not possible. Converting the following columns to categorica varibles gives a signal to other libraries of python to treat them as categories. Thus it makes it easier to use plots with these columns. With the limited string values of each of the categories, with around 100k rows will save some memmory."
   ]
  },
  {
   "cell_type": "code",
   "execution_count": 26,
   "id": "35d4094a",
   "metadata": {},
   "outputs": [],
   "source": [
    "#Converting required columns to categorical variables \n",
    "newData['admission_type_id'] = newData['admission_type_id'].astype('category')   #converting array of string objects \n",
    "newData['race'] = newData['race'].astype('category')\n",
    "newData['gender'] = newData['gender'].astype('category')\n",
    "newData['age'] = newData['age'].astype('category')\n",
    "newData['discharge_disposition_id'] = newData['discharge_disposition_id'].astype('category')\n",
    "newData['admission_source_id'] = newData['admission_source_id'].astype('category')\n",
    "newData['payer_code'] = newData['payer_code'].astype('category')\n",
    "newData['max_glu_serum'] = newData['max_glu_serum'].astype('category')\n",
    "newData['A1Cresult'] = newData['A1Cresult'].astype('category')\n",
    "newData['diabetesMed'] = newData['diabetesMed'].astype('category')\n",
    "newData['readmitted'] = newData['readmitted'].astype('category')\n",
    "newData['medical_specialty'] = newData['medical_specialty'].astype('category')"
   ]
  },
  {
   "cell_type": "code",
   "execution_count": 27,
   "id": "21c741b3",
   "metadata": {},
   "outputs": [
    {
     "name": "stdout",
     "output_type": "stream",
     "text": [
      "<class 'pandas.core.frame.DataFrame'>\n",
      "RangeIndex: 101766 entries, 0 to 101765\n",
      "Data columns (total 49 columns):\n",
      " #   Column                    Non-Null Count   Dtype   \n",
      "---  ------                    --------------   -----   \n",
      " 0   encounter_id              101766 non-null  int64   \n",
      " 1   patient_nbr               101766 non-null  int64   \n",
      " 2   race                      101766 non-null  category\n",
      " 3   gender                    101766 non-null  category\n",
      " 4   age                       101766 non-null  category\n",
      " 5   admission_type_id         101766 non-null  category\n",
      " 6   discharge_disposition_id  101766 non-null  category\n",
      " 7   admission_source_id       101766 non-null  category\n",
      " 8   time_in_hospital          101766 non-null  int64   \n",
      " 9   payer_code                101766 non-null  category\n",
      " 10  medical_specialty         101766 non-null  category\n",
      " 11  num_lab_procedures        101766 non-null  int64   \n",
      " 12  num_procedures            101766 non-null  int64   \n",
      " 13  num_medications           101766 non-null  int64   \n",
      " 14  number_outpatient         101766 non-null  int64   \n",
      " 15  number_emergency          101766 non-null  int64   \n",
      " 16  number_inpatient          101766 non-null  int64   \n",
      " 17  diag_1                    101766 non-null  object  \n",
      " 18  diag_2                    101766 non-null  object  \n",
      " 19  diag_3                    101766 non-null  object  \n",
      " 20  number_diagnoses          101766 non-null  int64   \n",
      " 21  max_glu_serum             101766 non-null  category\n",
      " 22  A1Cresult                 101766 non-null  category\n",
      " 23  metformin                 101766 non-null  object  \n",
      " 24  repaglinide               101766 non-null  object  \n",
      " 25  nateglinide               101766 non-null  object  \n",
      " 26  chlorpropamide            101766 non-null  object  \n",
      " 27  glimepiride               101766 non-null  object  \n",
      " 28  acetohexamide             101766 non-null  object  \n",
      " 29  glipizide                 101766 non-null  object  \n",
      " 30  glyburide                 101766 non-null  object  \n",
      " 31  tolbutamide               101766 non-null  object  \n",
      " 32  pioglitazone              101766 non-null  object  \n",
      " 33  rosiglitazone             101766 non-null  object  \n",
      " 34  acarbose                  101766 non-null  object  \n",
      " 35  miglitol                  101766 non-null  object  \n",
      " 36  troglitazone              101766 non-null  object  \n",
      " 37  tolazamide                101766 non-null  object  \n",
      " 38  examide                   101766 non-null  object  \n",
      " 39  citoglipton               101766 non-null  object  \n",
      " 40  insulin                   101766 non-null  object  \n",
      " 41  glyburide-metformin       101766 non-null  object  \n",
      " 42  glipizide-metformin       101766 non-null  object  \n",
      " 43  glimepiride-pioglitazone  101766 non-null  object  \n",
      " 44  metformin-rosiglitazone   101766 non-null  object  \n",
      " 45  metformin-pioglitazone    101766 non-null  object  \n",
      " 46  change                    101766 non-null  object  \n",
      " 47  diabetesMed               101766 non-null  category\n",
      " 48  readmitted                101766 non-null  category\n",
      "dtypes: category(12), int64(10), object(27)\n",
      "memory usage: 29.9+ MB\n"
     ]
    }
   ],
   "source": [
    "newData.info() # verifying that those colums have been converted to category"
   ]
  },
  {
   "cell_type": "markdown",
   "id": "25309f52",
   "metadata": {},
   "source": [
    "We can see that before transforming the data, the size of the dataframe was about 38.8MB\n",
    "After transforming the dataframe, the size of the dataframe has come down to about 29.9MB\n",
    "Transforming the data has helped in reducing the size of the data considerably."
   ]
  },
  {
   "cell_type": "markdown",
   "id": "537bc80e",
   "metadata": {},
   "source": [
    "## ANALYSIS AND VISUALIZATIONS"
   ]
  },
  {
   "cell_type": "markdown",
   "id": "f505802c",
   "metadata": {},
   "source": [
    "We are first trying to analyze how many pateints had to undergo readmission in total. We are only counting encounters to be greater than 1. The reason it 80 percent of the patients come under 1  readmittance and no readmittance."
   ]
  },
  {
   "cell_type": "code",
   "execution_count": 28,
   "id": "a8cda072",
   "metadata": {},
   "outputs": [
    {
     "data": {
      "text/plain": [
       "88785891    40\n",
       "43140906    28\n",
       "1660293     23\n",
       "88227540    23\n",
       "23199021    23\n",
       "            ..\n",
       "239535       2\n",
       "44895969     2\n",
       "85504905     2\n",
       "39987954     2\n",
       "92028474     2\n",
       "Name: patient_nbr, Length: 16773, dtype: int64"
      ]
     },
     "execution_count": 28,
     "metadata": {},
     "output_type": "execute_result"
    }
   ],
   "source": [
    "#patient_encounters>1 means the patient has been readmitted atleast once\n",
    "patient_encounters=newData['patient_nbr'].value_counts()\n",
    "patient_encounters[patient_encounters>1]"
   ]
  },
  {
   "cell_type": "code",
   "execution_count": 29,
   "id": "6bc4a291",
   "metadata": {},
   "outputs": [
    {
     "data": {
      "text/plain": [
       "<AxesSubplot:>"
      ]
     },
     "execution_count": 29,
     "metadata": {},
     "output_type": "execute_result"
    },
    {
     "data": {
      "image/png": "[encoded data removed]",
      "text/plain": [
       "<Figure size 432x288 with 1 Axes>"
      ]
     },
     "metadata": {
      "needs_background": "light"
     },
     "output_type": "display_data"
    }
   ],
   "source": [
    "#histogram to see how many have been readmitted at least once\n",
    "patient_encounters[patient_encounters>1].hist(bins=50)\n",
    "#By seeing this graph, we cam infer that the most times a patient has been \n",
    "#readmitted is around 2~3 times"
   ]
  },
  {
   "cell_type": "markdown",
   "id": "fe056b05",
   "metadata": {},
   "source": [
    "As you can see above , we are around 10000 entries which comprise approximately 10 percent of the total data with 2 readmittance."
   ]
  },
  {
   "cell_type": "markdown",
   "id": "ee4c05ca",
   "metadata": {},
   "source": [
    "Seaborn is a Python data visualization library based on matplotlib. It provides a high-level interface for drawing attractive and informative statistical graphics.seaborn.catplot function provides access to several axes-level functions that show the relationship between a numerical and one or more categorical variables using one of several visual representations."
   ]
  },
  {
   "cell_type": "code",
   "execution_count": 30,
   "id": "62943356",
   "metadata": {},
   "outputs": [],
   "source": [
    "#Importing seaborn\n",
    "import seaborn as sns"
   ]
  },
  {
   "cell_type": "markdown",
   "id": "e2d28442",
   "metadata": {},
   "source": [
    "Just by seeing this graph and the colors that depicts readmitted, we can visuualize that \n",
    "1) the age group [0-10) have very few admits and readmits compared to the other age groups.\n",
    "2) the age group [50-60) have many readmits within 30 days when their time in hospital is around 7~9 days.\n",
    "3) the age groups [60-80) have many readmits after a span of 30 days"
   ]
  },
  {
   "cell_type": "code",
   "execution_count": 31,
   "id": "e91b1ed7",
   "metadata": {},
   "outputs": [
    {
     "data": {
      "text/plain": [
       "<seaborn.axisgrid.FacetGrid at 0x7faeb0bcf9d0>"
      ]
     },
     "execution_count": 31,
     "metadata": {},
     "output_type": "execute_result"
    },
    {
     "data": {
      "image/png": "[encoded data removed]",
      "text/plain": [
       "<Figure size 905.65x595.44 with 1 Axes>"
      ]
     },
     "metadata": {
      "needs_background": "light"
     },
     "output_type": "display_data"
    }
   ],
   "source": [
    "#time in hospital vs age wrt readmitted\n",
    "sns.catplot(x=\"age\", y=\"time_in_hospital\",hue=\"readmitted\", data=newData, height=8.27, aspect=11.7/8.27)\n"
   ]
  },
  {
   "cell_type": "markdown",
   "id": "87f9ca22",
   "metadata": {},
   "source": [
    "Catplot is a relatively new addition to Seaborn that simplifies plotting that involves categorical variables. This function provides access to several axes-level functions that show the relationship between a numerical and one or more categorical variables using one of several visual representations. The kind parameter selects the underlying axes-level function to use. Here we have used kind=\"box\" giving us box plots. Unlike using axes level functions directly, data must be passed in long form DataFrame with variables specified by passing string to x, y, hue."
   ]
  },
  {
   "cell_type": "code",
   "execution_count": 32,
   "id": "dd0ead88",
   "metadata": {},
   "outputs": [
    {
     "data": {
      "text/plain": [
       "<seaborn.axisgrid.FacetGrid at 0x7faeaaa83e50>"
      ]
     },
     "execution_count": 32,
     "metadata": {},
     "output_type": "execute_result"
    },
    {
     "data": {
      "image/png": "[encoded data removed]",
      "text/plain": [
       "<Figure size 430.625x360 with 1 Axes>"
      ]
     },
     "metadata": {
      "needs_background": "light"
     },
     "output_type": "display_data"
    }
   ],
   "source": [
    "sns.catplot(x=\"time_in_hospital\", y=\"admission_type_id\", hue=\"insulin\", kind=\"box\", data=newData)"
   ]
  },
  {
   "cell_type": "markdown",
   "id": "c86b6886",
   "metadata": {},
   "source": [
    "A surprising result we get from this bar plot is number of people getting readmitted after 30 days is more than people getting readmitted within 30 days. Ofcourse the number of people who don't need readmittance is higher than both but it is interesting to see that diabetic patients experience tend to take more than 30 days to experience any symptoms which lead them to readmittance."
   ]
  },
  {
   "cell_type": "code",
   "execution_count": 33,
   "id": "9c3c2e35",
   "metadata": {},
   "outputs": [
    {
     "data": {
      "text/plain": [
       "Text(0.5, 1.0, 'Readmittance')"
      ]
     },
     "execution_count": 33,
     "metadata": {},
     "output_type": "execute_result"
    },
    {
     "data": {
      "image/png": "[encoded data removed]",
      "text/plain": [
       "<Figure size 576x360 with 1 Axes>"
      ]
     },
     "metadata": {
      "needs_background": "light"
     },
     "output_type": "display_data"
    }
   ],
   "source": [
    "plt.figure(figsize=(8,5))\n",
    "sns.countplot(x='readmitted',data=newData, palette='rainbow')\n",
    "plt.title(\"Readmittance\") \n",
    "#categories of readmitted vs count"
   ]
  },
  {
   "cell_type": "markdown",
   "id": "8bd34899",
   "metadata": {},
   "source": [
    "A count plot can be thought of as a histogram across a categorical, instead of quantitative, variable. The basic API and options are identical to those for barplot(), so you can compare counts across nested variables.\n",
    "Input data can be passed in a variety of formats, including:\n",
    "Vectors of data represented as lists, numpy arrays, or pandas Series objects passed directly to the x, y, and/or hue parameters.\n",
    "1) A “long-form” DataFrame, in which case the x, y, and hue variables will determine how the data are plotted.\n",
    "2) A “wide-form” DataFrame, such that each numeric column will be plotted.\n",
    "3) An array or list of vectors."
   ]
  },
  {
   "cell_type": "code",
   "execution_count": 34,
   "id": "84c11c9f",
   "metadata": {},
   "outputs": [
    {
     "data": {
      "image/png": "[encoded data removed]",
      "text/plain": [
       "<Figure size 432x288 with 1 Axes>"
      ]
     },
     "metadata": {
      "needs_background": "light"
     },
     "output_type": "display_data"
    }
   ],
   "source": [
    "plot006 = sns.countplot(x=\"payer_code\", hue=\"readmitted\", data=newData)\n",
    "sns.set(rc={'figure.figsize':(18,8)})\n",
    "#count of payer codes based on readmitted"
   ]
  },
  {
   "cell_type": "markdown",
   "id": "ef5eae8f",
   "metadata": {},
   "source": [
    "Below count plot helps us understand that patients who were admitted under the Emergency Category were the most frequent ones to get readmitted. The ratio that most of the patients are being readmitted after 30 days than before 30 days."
   ]
  },
  {
   "cell_type": "code",
   "execution_count": 35,
   "id": "bad40e57",
   "metadata": {},
   "outputs": [
    {
     "data": {
      "image/png": "[encoded data removed]",
      "text/plain": [
       "<Figure size 1296x576 with 1 Axes>"
      ]
     },
     "metadata": {},
     "output_type": "display_data"
    }
   ],
   "source": [
    "plot006 = sns.countplot(x=\"admission_type_id\", hue=\"readmitted\", data=newData)\n",
    "sns.set(rc={'figure.figsize':(18,8)})\n",
    "#counts of admission types based on readmitted categories"
   ]
  },
  {
   "cell_type": "code",
   "execution_count": 36,
   "id": "f0b013ac",
   "metadata": {},
   "outputs": [
    {
     "data": {
      "image/png": "[encoded data removed]",
      "text/plain": [
       "<Figure size 1296x576 with 1 Axes>"
      ]
     },
     "metadata": {},
     "output_type": "display_data"
    }
   ],
   "source": [
    "plot006 = sns.countplot(x=\"A1Cresult\", hue=\"readmitted\", data=newData)\n",
    "sns.set(rc={'figure.figsize':(18,8)})\n",
    "#Count of Alcoholic test results based on readmitted categories"
   ]
  },
  {
   "cell_type": "markdown",
   "id": "f1f49e83",
   "metadata": {},
   "source": [
    "Violin plots are a method of plotting numeric data and can be considered a combination of the box plot with a kernel density plot. In the violin plot, we can find the same information as in the box plots:\n",
    "1) Median (a white dot on the violin plot)\n",
    "2) Interquartile range (the black bar in the center of violin)\n",
    "3) The lower/upper adjacent values"
   ]
  },
  {
   "cell_type": "code",
   "execution_count": 37,
   "id": "d34520a7",
   "metadata": {},
   "outputs": [
    {
     "data": {
      "text/plain": [
       "<AxesSubplot:xlabel='time_in_hospital', ylabel='num_procedures'>"
      ]
     },
     "execution_count": 37,
     "metadata": {},
     "output_type": "execute_result"
    },
    {
     "data": {
      "image/png": "[encoded data removed]",
      "text/plain": [
       "<Figure size 1296x576 with 1 Axes>"
      ]
     },
     "metadata": {},
     "output_type": "display_data"
    }
   ],
   "source": [
    "sns.violinplot(x=\"time_in_hospital\",y=\"num_procedures\",data=newData,hue='readmitted',palette='Set1')\n",
    "#violin plot based on time in hospital vs number of procedures performed based on readmitted categories"
   ]
  },
  {
   "cell_type": "code",
   "execution_count": 38,
   "id": "5932e876",
   "metadata": {},
   "outputs": [
    {
     "name": "stdout",
     "output_type": "stream",
     "text": [
      "readmitted   <30    >30     NO\n",
      "insulin                       \n",
      "Down        1698   4752   5768\n",
      "No          4756  15949  26678\n",
      "Steady      3433  10482  16934\n",
      "Up          1470   4362   5484\n"
     ]
    },
    {
     "data": {
      "text/plain": [
       "<AxesSubplot:xlabel='insulin'>"
      ]
     },
     "execution_count": 38,
     "metadata": {},
     "output_type": "execute_result"
    },
    {
     "data": {
      "image/png": "[encoded data removed]",
      "text/plain": [
       "<Figure size 432x288 with 1 Axes>"
      ]
     },
     "metadata": {
      "needs_background": "light"
     },
     "output_type": "display_data"
    }
   ],
   "source": [
    "CrosstabResult=pd.crosstab(index=newData['insulin'],columns=newData['readmitted'])\n",
    "print(CrosstabResult)\n",
    " \n",
    "# Grouped bar chart between GENDER and APPROVE_LOAN\n",
    "%matplotlib inline \n",
    "CrosstabResult.plot.bar()\n",
    "#bar plot based on insulin categories "
   ]
  },
  {
   "cell_type": "markdown",
   "id": "439ac109",
   "metadata": {},
   "source": [
    "### Which age group patients have a particular result of the glucose serum test?"
   ]
  },
  {
   "cell_type": "markdown",
   "id": "7920613d",
   "metadata": {},
   "source": [
    "Using value_counts() we are understanding that as the age increases , max glucose serum level also increases. For example for someone in age group 20-30, we have only 43 people with glucose level above 300 and 14 people with glucose level above 200. While in the age group 70-80, we have 439 people with glucose level above 200 and 311 people with glucose level above 300."
   ]
  },
  {
   "cell_type": "code",
   "execution_count": 39,
   "id": "50ffcf55",
   "metadata": {
    "scrolled": true
   },
   "outputs": [
    {
     "data": {
      "text/plain": [
       "age           \n",
       "[0-10)    None     161\n",
       "          >200       0\n",
       "          >300       0\n",
       "          Norm       0\n",
       "[10-20)   None     676\n",
       "                  ... \n",
       "[80-90)   >300     203\n",
       "[90-100)  None    2585\n",
       "          Norm     109\n",
       "          >200      63\n",
       "          >300      36\n",
       "Name: max_glu_serum, Length: 40, dtype: int64"
      ]
     },
     "execution_count": 39,
     "metadata": {},
     "output_type": "execute_result"
    }
   ],
   "source": [
    "newData.groupby(['age'])['max_glu_serum'].value_counts() \n",
    "#age group of patients based on their glucose serum test results"
   ]
  },
  {
   "cell_type": "markdown",
   "id": "19a32acd",
   "metadata": {},
   "source": [
    "Which age group of patients have a particular result of the alcohol test?"
   ]
  },
  {
   "cell_type": "markdown",
   "id": "90a95053",
   "metadata": {},
   "source": [
    "The patients with the age group 70-80 have the worse results from the alcohol test for diabetes"
   ]
  },
  {
   "cell_type": "code",
   "execution_count": 40,
   "id": "af758944",
   "metadata": {},
   "outputs": [
    {
     "data": {
      "text/plain": [
       "age           \n",
       "[0-10)    >8        82\n",
       "          None      68\n",
       "          Norm       9\n",
       "          >7         2\n",
       "[10-20)   None     341\n",
       "                  ... \n",
       "[80-90)   >8       693\n",
       "[90-100)  None    2473\n",
       "          Norm     124\n",
       "          >7       106\n",
       "          >8        90\n",
       "Name: A1Cresult, Length: 40, dtype: int64"
      ]
     },
     "execution_count": 40,
     "metadata": {},
     "output_type": "execute_result"
    }
   ],
   "source": [
    "newData.groupby(['age'])['A1Cresult'].value_counts() \n",
    "#age group of patients based on their alcoholic test results"
   ]
  },
  {
   "cell_type": "markdown",
   "id": "1c8333dc",
   "metadata": {},
   "source": [
    "What is the count of the time in hospital for a particular admission type?"
   ]
  },
  {
   "cell_type": "markdown",
   "id": "3a43ba70",
   "metadata": {},
   "source": [
    "We previously found that people who were admitted under Emergency were readmitted the most times. Thus we are looking at the people who were Admitted under Emergency Category. People who were readmitted to the hospital."
   ]
  },
  {
   "cell_type": "code",
   "execution_count": 41,
   "id": "e9358a4f",
   "metadata": {},
   "outputs": [
    {
     "data": {
      "text/plain": [
       "2     9682\n",
       "3     9611\n",
       "4     7642\n",
       "1     6749\n",
       "5     5462\n",
       "6     3966\n",
       "7     3075\n",
       "8     2224\n",
       "9     1577\n",
       "10    1231\n",
       "11     916\n",
       "12     748\n",
       "13     607\n",
       "14     500\n",
       "Name: time_in_hospital, dtype: int64"
      ]
     },
     "execution_count": 41,
     "metadata": {},
     "output_type": "execute_result"
    }
   ],
   "source": [
    "newData[newData['admission_type_id']=='Emergency'].time_in_hospital.value_counts()   \n",
    "#count of time in hospital for emergency admission"
   ]
  },
  {
   "cell_type": "code",
   "execution_count": 42,
   "id": "5493d164",
   "metadata": {},
   "outputs": [
    {
     "data": {
      "text/plain": [
       "3     3057\n",
       "2     3004\n",
       "4     2456\n",
       "1     2356\n",
       "5     1805\n",
       "6     1458\n",
       "7     1211\n",
       "8      877\n",
       "9      597\n",
       "10     489\n",
       "11     426\n",
       "12     267\n",
       "13     250\n",
       "14     227\n",
       "Name: time_in_hospital, dtype: int64"
      ]
     },
     "execution_count": 42,
     "metadata": {},
     "output_type": "execute_result"
    }
   ],
   "source": [
    "newData[newData['admission_type_id']=='Urgent'].time_in_hospital.value_counts()\n",
    "#count of time in hospital for urgent admission"
   ]
  },
  {
   "cell_type": "code",
   "execution_count": 43,
   "id": "0910b020",
   "metadata": {},
   "outputs": [
    {
     "data": {
      "text/plain": [
       "1     4\n",
       "3     3\n",
       "8     3\n",
       "5     2\n",
       "2     2\n",
       "4     2\n",
       "10    1\n",
       "11    1\n",
       "7     1\n",
       "6     1\n",
       "9     1\n",
       "Name: time_in_hospital, dtype: int64"
      ]
     },
     "execution_count": 43,
     "metadata": {},
     "output_type": "execute_result"
    }
   ],
   "source": [
    "newData[newData['admission_type_id']=='Trauma Center'].time_in_hospital.value_counts()\n",
    "#count of time in hospital for Trauma center admission"
   ]
  },
  {
   "cell_type": "markdown",
   "id": "60dcad66",
   "metadata": {},
   "source": [
    "Which age group of a patient has a greater probability of readmittance to the hospital? "
   ]
  },
  {
   "cell_type": "code",
   "execution_count": 44,
   "id": "954eb9c9",
   "metadata": {},
   "outputs": [
    {
     "data": {
      "text/plain": [
       "[70-80)     13524\n",
       "[60-70)     12084\n",
       "[50-60)      9671\n",
       "[80-90)      8896\n",
       "[40-50)      5380\n",
       "[30-40)      2164\n",
       "[90-100)     1675\n",
       "[20-30)       911\n",
       "[10-20)       427\n",
       "[0-10)        132\n",
       "Name: age, dtype: int64"
      ]
     },
     "execution_count": 44,
     "metadata": {},
     "output_type": "execute_result"
    }
   ],
   "source": [
    "not_readmitted=newData[newData['readmitted']=='NO']\n",
    "not_readmitted['age'].value_counts()\n",
    "#age groups and their non-readmitted counts"
   ]
  },
  {
   "cell_type": "code",
   "execution_count": 45,
   "id": "8621845b",
   "metadata": {},
   "outputs": [
    {
     "data": {
      "text/plain": [
       "<AxesSubplot:>"
      ]
     },
     "execution_count": 45,
     "metadata": {},
     "output_type": "execute_result"
    },
    {
     "data": {
      "image/png": "[encoded data removed]",
      "text/plain": [
       "<Figure size 720x360 with 1 Axes>"
      ]
     },
     "metadata": {
      "needs_background": "light"
     },
     "output_type": "display_data"
    }
   ],
   "source": [
    "fig=plt.figure(figsize=(10,5))\n",
    "not_readmitted['age'].hist()"
   ]
  },
  {
   "cell_type": "code",
   "execution_count": 46,
   "id": "f2978d1d",
   "metadata": {},
   "outputs": [
    {
     "data": {
      "text/plain": [
       "[70-80)     3069\n",
       "[60-70)     2502\n",
       "[80-90)     2078\n",
       "[50-60)     1668\n",
       "[40-50)     1027\n",
       "[30-40)      424\n",
       "[90-100)     310\n",
       "[20-30)      236\n",
       "[10-20)       40\n",
       "[0-10)         3\n",
       "Name: age, dtype: int64"
      ]
     },
     "execution_count": 46,
     "metadata": {},
     "output_type": "execute_result"
    }
   ],
   "source": [
    "readmitted_lesser_than_30days=newData[newData['readmitted']=='<30']\n",
    "readmitted_lesser_than_30days['age'].value_counts()\n",
    "#age groups and their readmitted lesser than 30 days counts"
   ]
  },
  {
   "cell_type": "code",
   "execution_count": 47,
   "id": "a5ef3bed",
   "metadata": {},
   "outputs": [
    {
     "data": {
      "text/plain": [
       "<AxesSubplot:>"
      ]
     },
     "execution_count": 47,
     "metadata": {},
     "output_type": "execute_result"
    },
    {
     "data": {
      "image/png": "[encoded data removed]",
      "text/plain": [
       "<Figure size 720x360 with 1 Axes>"
      ]
     },
     "metadata": {
      "needs_background": "light"
     },
     "output_type": "display_data"
    }
   ],
   "source": [
    "fig=plt.figure(figsize=(10,5))\n",
    "readmitted_lesser_than_30days['age'].hist()"
   ]
  },
  {
   "cell_type": "code",
   "execution_count": 48,
   "id": "15a79758",
   "metadata": {},
   "outputs": [
    {
     "data": {
      "text/plain": [
       "[70-80)     9475\n",
       "[60-70)     7897\n",
       "[80-90)     6223\n",
       "[50-60)     5917\n",
       "[40-50)     3278\n",
       "[30-40)     1187\n",
       "[90-100)     808\n",
       "[20-30)      510\n",
       "[10-20)      224\n",
       "[0-10)        26\n",
       "Name: age, dtype: int64"
      ]
     },
     "execution_count": 48,
     "metadata": {},
     "output_type": "execute_result"
    }
   ],
   "source": [
    "readmitted_after_30days=newData[newData['readmitted']=='>30']\n",
    "readmitted_after_30days['age'].value_counts()\n",
    "#age groups and their readmitted after 30 days counts"
   ]
  },
  {
   "cell_type": "code",
   "execution_count": 49,
   "id": "8c5b01c7",
   "metadata": {},
   "outputs": [
    {
     "data": {
      "text/plain": [
       "<AxesSubplot:>"
      ]
     },
     "execution_count": 49,
     "metadata": {},
     "output_type": "execute_result"
    },
    {
     "data": {
      "image/png": "[encoded data removed]",
      "text/plain": [
       "<Figure size 720x360 with 1 Axes>"
      ]
     },
     "metadata": {
      "needs_background": "light"
     },
     "output_type": "display_data"
    }
   ],
   "source": [
    "fig=plt.figure(figsize=(10,5))\n",
    "readmitted_after_30days['age'].hist()"
   ]
  },
  {
   "cell_type": "markdown",
   "id": "20d0665e",
   "metadata": {},
   "source": [
    "Which age group has been readmitted the most times for a particular value of Diabetes medication?"
   ]
  },
  {
   "cell_type": "code",
   "execution_count": 50,
   "id": "b41daf7d",
   "metadata": {},
   "outputs": [
    {
     "data": {
      "text/plain": [
       "diabetesMed  age          \n",
       "No           [0-10)    NO       25\n",
       "                       >30       3\n",
       "                       <30       0\n",
       "             [10-20)   NO       63\n",
       "                       >30      25\n",
       "                              ... \n",
       "Yes          [80-90)   >30    4895\n",
       "                       <30    1678\n",
       "             [90-100)  NO     1131\n",
       "                       >30     575\n",
       "                       <30     238\n",
       "Name: readmitted, Length: 60, dtype: int64"
      ]
     },
     "execution_count": 50,
     "metadata": {},
     "output_type": "execute_result"
    }
   ],
   "source": [
    "newData.groupby(['diabetesMed','age'])['readmitted'].value_counts()  \n",
    "#grouping diabetes medicine and age to get readmitted count"
   ]
  },
  {
   "cell_type": "markdown",
   "id": "685f5fbf",
   "metadata": {},
   "source": [
    "Which age group has been readmitted the most times for a particular value of change in medication?"
   ]
  },
  {
   "cell_type": "markdown",
   "id": "2d445482",
   "metadata": {},
   "source": [
    "The Ch signifies there was a change in the medication and the No signifies there wasn't a change. Furthermore the Readmittance is also calculated in which NO means a person was not readmitted. >30 means that person was readmitted within 30 days and <30 means the patient was readmitted after 30 days."
   ]
  },
  {
   "cell_type": "code",
   "execution_count": 51,
   "id": "23b5f58c",
   "metadata": {},
   "outputs": [
    {
     "data": {
      "text/plain": [
       "change  age          \n",
       "Ch      [0-10)    NO       23\n",
       "                  >30       9\n",
       "                  <30       1\n",
       "        [10-20)   NO      166\n",
       "                  >30      98\n",
       "                         ... \n",
       "No      [80-90)   >30    3386\n",
       "                  <30    1086\n",
       "        [90-100)  NO     1074\n",
       "                  >30     489\n",
       "                  <30     165\n",
       "Name: readmitted, Length: 60, dtype: int64"
      ]
     },
     "execution_count": 51,
     "metadata": {},
     "output_type": "execute_result"
    }
   ],
   "source": [
    "newData.groupby(['change','age'])['readmitted'].value_counts()\n",
    "#grouping change in medication and age to get readmitted count"
   ]
  },
  {
   "cell_type": "markdown",
   "id": "d1165191",
   "metadata": {},
   "source": [
    "## Creating model to check which values are most relevant to readmittance"
   ]
  },
  {
   "cell_type": "markdown",
   "id": "3a2bf109",
   "metadata": {},
   "source": [
    "Based upon our analysis above , we selected the columns age,max_glu_srum,A1Cresult,insulin,change,diabetesMed which would be the most important in predicting the readmittance conditions. Thus we take a subset of our initial Dataframe to make a new Dataframe with the above mentioned columns and readmitted column."
   ]
  },
  {
   "cell_type": "code",
   "execution_count": 52,
   "id": "f056b28a",
   "metadata": {},
   "outputs": [
    {
     "data": {
      "text/html": [
       "<div>\n",
       "<style scoped>\n",
       "    .dataframe tbody tr th:only-of-type {\n",
       "        vertical-align: middle;\n",
       "    }\n",
       "\n",
       "    .dataframe tbody tr th {\n",
       "        vertical-align: top;\n",
       "    }\n",
       "\n",
       "    .dataframe thead th {\n",
       "        text-align: right;\n",
       "    }\n",
       "</style>\n",
       "<table border=\"1\" class=\"dataframe\">\n",
       "  <thead>\n",
       "    <tr style=\"text-align: right;\">\n",
       "      <th></th>\n",
       "      <th>age</th>\n",
       "      <th>max_glu_serum</th>\n",
       "      <th>A1Cresult</th>\n",
       "      <th>insulin</th>\n",
       "      <th>change</th>\n",
       "      <th>diabetesMed</th>\n",
       "      <th>readmitted</th>\n",
       "    </tr>\n",
       "  </thead>\n",
       "  <tbody>\n",
       "    <tr>\n",
       "      <th>0</th>\n",
       "      <td>[0-10)</td>\n",
       "      <td>None</td>\n",
       "      <td>None</td>\n",
       "      <td>No</td>\n",
       "      <td>No</td>\n",
       "      <td>No</td>\n",
       "      <td>NO</td>\n",
       "    </tr>\n",
       "    <tr>\n",
       "      <th>1</th>\n",
       "      <td>[10-20)</td>\n",
       "      <td>None</td>\n",
       "      <td>None</td>\n",
       "      <td>Up</td>\n",
       "      <td>Ch</td>\n",
       "      <td>Yes</td>\n",
       "      <td>&gt;30</td>\n",
       "    </tr>\n",
       "    <tr>\n",
       "      <th>2</th>\n",
       "      <td>[20-30)</td>\n",
       "      <td>None</td>\n",
       "      <td>None</td>\n",
       "      <td>No</td>\n",
       "      <td>No</td>\n",
       "      <td>Yes</td>\n",
       "      <td>NO</td>\n",
       "    </tr>\n",
       "    <tr>\n",
       "      <th>3</th>\n",
       "      <td>[30-40)</td>\n",
       "      <td>None</td>\n",
       "      <td>None</td>\n",
       "      <td>Up</td>\n",
       "      <td>Ch</td>\n",
       "      <td>Yes</td>\n",
       "      <td>NO</td>\n",
       "    </tr>\n",
       "    <tr>\n",
       "      <th>4</th>\n",
       "      <td>[40-50)</td>\n",
       "      <td>None</td>\n",
       "      <td>None</td>\n",
       "      <td>Steady</td>\n",
       "      <td>Ch</td>\n",
       "      <td>Yes</td>\n",
       "      <td>NO</td>\n",
       "    </tr>\n",
       "  </tbody>\n",
       "</table>\n",
       "</div>"
      ],
      "text/plain": [
       "       age max_glu_serum A1Cresult insulin change diabetesMed readmitted\n",
       "0   [0-10)          None      None      No     No          No         NO\n",
       "1  [10-20)          None      None      Up     Ch         Yes        >30\n",
       "2  [20-30)          None      None      No     No         Yes         NO\n",
       "3  [30-40)          None      None      Up     Ch         Yes         NO\n",
       "4  [40-50)          None      None  Steady     Ch         Yes         NO"
      ]
     },
     "execution_count": 52,
     "metadata": {},
     "output_type": "execute_result"
    }
   ],
   "source": [
    "#picking particular columns to use for fpgrowth algorithm\n",
    "modelData = newData[['age','max_glu_serum', 'A1Cresult', 'insulin','change','diabetesMed','readmitted']].copy()\n",
    "modelData.head()"
   ]
  },
  {
   "cell_type": "markdown",
   "id": "8dd9122a",
   "metadata": {},
   "source": [
    "We used one hot encoding to convert the newly created dataframe into one-hot encoders. There are many approaches to using the associate data mining but all of them need to convert the data into a format of transactions or we can also say , convert them into Factors. Using one-hot encoding, we didn't have to write a separate code which iterates the columns we selected for this very purpose. Even if we did that, it costs a lot of processing power and one-hot encoding makes it easier in that manner."
   ]
  },
  {
   "cell_type": "code",
   "execution_count": 53,
   "id": "95fe5f31",
   "metadata": {},
   "outputs": [],
   "source": [
    "#hot encoding data\n",
    "modelData_hotencoded = pd.get_dummies(modelData)"
   ]
  },
  {
   "cell_type": "code",
   "execution_count": 54,
   "id": "73c5ff84",
   "metadata": {},
   "outputs": [
    {
     "data": {
      "text/html": [
       "<div>\n",
       "<style scoped>\n",
       "    .dataframe tbody tr th:only-of-type {\n",
       "        vertical-align: middle;\n",
       "    }\n",
       "\n",
       "    .dataframe tbody tr th {\n",
       "        vertical-align: top;\n",
       "    }\n",
       "\n",
       "    .dataframe thead th {\n",
       "        text-align: right;\n",
       "    }\n",
       "</style>\n",
       "<table border=\"1\" class=\"dataframe\">\n",
       "  <thead>\n",
       "    <tr style=\"text-align: right;\">\n",
       "      <th></th>\n",
       "      <th>age_[0-10)</th>\n",
       "      <th>age_[10-20)</th>\n",
       "      <th>age_[20-30)</th>\n",
       "      <th>age_[30-40)</th>\n",
       "      <th>age_[40-50)</th>\n",
       "      <th>age_[50-60)</th>\n",
       "      <th>age_[60-70)</th>\n",
       "      <th>age_[70-80)</th>\n",
       "      <th>age_[80-90)</th>\n",
       "      <th>age_[90-100)</th>\n",
       "      <th>...</th>\n",
       "      <th>insulin_No</th>\n",
       "      <th>insulin_Steady</th>\n",
       "      <th>insulin_Up</th>\n",
       "      <th>change_Ch</th>\n",
       "      <th>change_No</th>\n",
       "      <th>diabetesMed_No</th>\n",
       "      <th>diabetesMed_Yes</th>\n",
       "      <th>readmitted_&lt;30</th>\n",
       "      <th>readmitted_&gt;30</th>\n",
       "      <th>readmitted_NO</th>\n",
       "    </tr>\n",
       "  </thead>\n",
       "  <tbody>\n",
       "    <tr>\n",
       "      <th>0</th>\n",
       "      <td>1</td>\n",
       "      <td>0</td>\n",
       "      <td>0</td>\n",
       "      <td>0</td>\n",
       "      <td>0</td>\n",
       "      <td>0</td>\n",
       "      <td>0</td>\n",
       "      <td>0</td>\n",
       "      <td>0</td>\n",
       "      <td>0</td>\n",
       "      <td>...</td>\n",
       "      <td>1</td>\n",
       "      <td>0</td>\n",
       "      <td>0</td>\n",
       "      <td>0</td>\n",
       "      <td>1</td>\n",
       "      <td>1</td>\n",
       "      <td>0</td>\n",
       "      <td>0</td>\n",
       "      <td>0</td>\n",
       "      <td>1</td>\n",
       "    </tr>\n",
       "    <tr>\n",
       "      <th>1</th>\n",
       "      <td>0</td>\n",
       "      <td>1</td>\n",
       "      <td>0</td>\n",
       "      <td>0</td>\n",
       "      <td>0</td>\n",
       "      <td>0</td>\n",
       "      <td>0</td>\n",
       "      <td>0</td>\n",
       "      <td>0</td>\n",
       "      <td>0</td>\n",
       "      <td>...</td>\n",
       "      <td>0</td>\n",
       "      <td>0</td>\n",
       "      <td>1</td>\n",
       "      <td>1</td>\n",
       "      <td>0</td>\n",
       "      <td>0</td>\n",
       "      <td>1</td>\n",
       "      <td>0</td>\n",
       "      <td>1</td>\n",
       "      <td>0</td>\n",
       "    </tr>\n",
       "    <tr>\n",
       "      <th>2</th>\n",
       "      <td>0</td>\n",
       "      <td>0</td>\n",
       "      <td>1</td>\n",
       "      <td>0</td>\n",
       "      <td>0</td>\n",
       "      <td>0</td>\n",
       "      <td>0</td>\n",
       "      <td>0</td>\n",
       "      <td>0</td>\n",
       "      <td>0</td>\n",
       "      <td>...</td>\n",
       "      <td>1</td>\n",
       "      <td>0</td>\n",
       "      <td>0</td>\n",
       "      <td>0</td>\n",
       "      <td>1</td>\n",
       "      <td>0</td>\n",
       "      <td>1</td>\n",
       "      <td>0</td>\n",
       "      <td>0</td>\n",
       "      <td>1</td>\n",
       "    </tr>\n",
       "    <tr>\n",
       "      <th>3</th>\n",
       "      <td>0</td>\n",
       "      <td>0</td>\n",
       "      <td>0</td>\n",
       "      <td>1</td>\n",
       "      <td>0</td>\n",
       "      <td>0</td>\n",
       "      <td>0</td>\n",
       "      <td>0</td>\n",
       "      <td>0</td>\n",
       "      <td>0</td>\n",
       "      <td>...</td>\n",
       "      <td>0</td>\n",
       "      <td>0</td>\n",
       "      <td>1</td>\n",
       "      <td>1</td>\n",
       "      <td>0</td>\n",
       "      <td>0</td>\n",
       "      <td>1</td>\n",
       "      <td>0</td>\n",
       "      <td>0</td>\n",
       "      <td>1</td>\n",
       "    </tr>\n",
       "    <tr>\n",
       "      <th>4</th>\n",
       "      <td>0</td>\n",
       "      <td>0</td>\n",
       "      <td>0</td>\n",
       "      <td>0</td>\n",
       "      <td>1</td>\n",
       "      <td>0</td>\n",
       "      <td>0</td>\n",
       "      <td>0</td>\n",
       "      <td>0</td>\n",
       "      <td>0</td>\n",
       "      <td>...</td>\n",
       "      <td>0</td>\n",
       "      <td>1</td>\n",
       "      <td>0</td>\n",
       "      <td>1</td>\n",
       "      <td>0</td>\n",
       "      <td>0</td>\n",
       "      <td>1</td>\n",
       "      <td>0</td>\n",
       "      <td>0</td>\n",
       "      <td>1</td>\n",
       "    </tr>\n",
       "  </tbody>\n",
       "</table>\n",
       "<p>5 rows × 29 columns</p>\n",
       "</div>"
      ],
      "text/plain": [
       "   age_[0-10)  age_[10-20)  age_[20-30)  age_[30-40)  age_[40-50)  \\\n",
       "0           1            0            0            0            0   \n",
       "1           0            1            0            0            0   \n",
       "2           0            0            1            0            0   \n",
       "3           0            0            0            1            0   \n",
       "4           0            0            0            0            1   \n",
       "\n",
       "   age_[50-60)  age_[60-70)  age_[70-80)  age_[80-90)  age_[90-100)  ...  \\\n",
       "0            0            0            0            0             0  ...   \n",
       "1            0            0            0            0             0  ...   \n",
       "2            0            0            0            0             0  ...   \n",
       "3            0            0            0            0             0  ...   \n",
       "4            0            0            0            0             0  ...   \n",
       "\n",
       "   insulin_No  insulin_Steady  insulin_Up  change_Ch  change_No  \\\n",
       "0           1               0           0          0          1   \n",
       "1           0               0           1          1          0   \n",
       "2           1               0           0          0          1   \n",
       "3           0               0           1          1          0   \n",
       "4           0               1           0          1          0   \n",
       "\n",
       "   diabetesMed_No  diabetesMed_Yes  readmitted_<30  readmitted_>30  \\\n",
       "0               1                0               0               0   \n",
       "1               0                1               0               1   \n",
       "2               0                1               0               0   \n",
       "3               0                1               0               0   \n",
       "4               0                1               0               0   \n",
       "\n",
       "   readmitted_NO  \n",
       "0              1  \n",
       "1              0  \n",
       "2              1  \n",
       "3              1  \n",
       "4              1  \n",
       "\n",
       "[5 rows x 29 columns]"
      ]
     },
     "execution_count": 54,
     "metadata": {},
     "output_type": "execute_result"
    }
   ],
   "source": [
    "modelData_hotencoded.head()"
   ]
  },
  {
   "cell_type": "markdown",
   "id": "7429ed6b",
   "metadata": {},
   "source": [
    "MLxtend is a library that implements a variety of core algorithms and utilities for machine learning and data mining. ... The sequential feature selection algorithms cover forward, backward, forward floating, and backward floating selection and leverage scikit-learn's cross-validation API. You can install the MLxtend package through the Python Package Index (PyPi) by running pip install mlxtend."
   ]
  },
  {
   "cell_type": "code",
   "execution_count": 55,
   "id": "ba696a52",
   "metadata": {},
   "outputs": [
    {
     "name": "stdout",
     "output_type": "stream",
     "text": [
      "Collecting mlxtend\n",
      "  Downloading mlxtend-0.19.0-py2.py3-none-any.whl (1.3 MB)\n",
      "\u001b[K     |████████████████████████████████| 1.3 MB 7.4 MB/s eta 0:00:01\n",
      "\u001b[?25hRequirement already satisfied: numpy>=1.16.2 in /opt/conda/lib/python3.9/site-packages (from mlxtend) (1.20.3)\n",
      "Requirement already satisfied: joblib>=0.13.2 in /opt/conda/lib/python3.9/site-packages (from mlxtend) (1.0.1)\n",
      "Requirement already satisfied: setuptools in /opt/conda/lib/python3.9/site-packages (from mlxtend) (57.4.0)\n",
      "Requirement already satisfied: matplotlib>=3.0.0 in /opt/conda/lib/python3.9/site-packages (from mlxtend) (3.4.3)\n",
      "Requirement already satisfied: pandas>=0.24.2 in /opt/conda/lib/python3.9/site-packages (from mlxtend) (1.3.2)\n",
      "Requirement already satisfied: scipy>=1.2.1 in /opt/conda/lib/python3.9/site-packages (from mlxtend) (1.7.1)\n",
      "Requirement already satisfied: scikit-learn>=0.20.3 in /opt/conda/lib/python3.9/site-packages (from mlxtend) (0.24.2)\n",
      "Requirement already satisfied: kiwisolver>=1.0.1 in /opt/conda/lib/python3.9/site-packages (from matplotlib>=3.0.0->mlxtend) (1.3.2)\n",
      "Requirement already satisfied: pyparsing>=2.2.1 in /opt/conda/lib/python3.9/site-packages (from matplotlib>=3.0.0->mlxtend) (2.4.7)\n",
      "Requirement already satisfied: python-dateutil>=2.7 in /opt/conda/lib/python3.9/site-packages (from matplotlib>=3.0.0->mlxtend) (2.8.2)\n",
      "Requirement already satisfied: cycler>=0.10 in /opt/conda/lib/python3.9/site-packages (from matplotlib>=3.0.0->mlxtend) (0.10.0)\n",
      "Requirement already satisfied: pillow>=6.2.0 in /opt/conda/lib/python3.9/site-packages (from matplotlib>=3.0.0->mlxtend) (8.3.2)\n",
      "Requirement already satisfied: six in /opt/conda/lib/python3.9/site-packages (from cycler>=0.10->matplotlib>=3.0.0->mlxtend) (1.16.0)\n",
      "Requirement already satisfied: pytz>=2017.3 in /opt/conda/lib/python3.9/site-packages (from pandas>=0.24.2->mlxtend) (2021.1)\n",
      "Requirement already satisfied: threadpoolctl>=2.0.0 in /opt/conda/lib/python3.9/site-packages (from scikit-learn>=0.20.3->mlxtend) (2.2.0)\n",
      "Installing collected packages: mlxtend\n",
      "Successfully installed mlxtend-0.19.0\n",
      "Note: you may need to restart the kernel to use updated packages.\n"
     ]
    }
   ],
   "source": [
    "pip install mlxtend"
   ]
  },
  {
   "cell_type": "code",
   "execution_count": 56,
   "id": "2d3572be",
   "metadata": {},
   "outputs": [],
   "source": [
    "from mlxtend.frequent_patterns import apriori, fpmax, fpgrowth"
   ]
  },
  {
   "cell_type": "markdown",
   "id": "ca8d6be0",
   "metadata": {},
   "source": [
    "We use the FPGrowth algorithm for association rule mining. This is an algorithm used for finding frequent itemsets on big datasets.\n"
   ]
  },
  {
   "cell_type": "code",
   "execution_count": 57,
   "id": "4f02fb19",
   "metadata": {},
   "outputs": [
    {
     "data": {
      "text/html": [
       "<div>\n",
       "<style scoped>\n",
       "    .dataframe tbody tr th:only-of-type {\n",
       "        vertical-align: middle;\n",
       "    }\n",
       "\n",
       "    .dataframe tbody tr th {\n",
       "        vertical-align: top;\n",
       "    }\n",
       "\n",
       "    .dataframe thead th {\n",
       "        text-align: right;\n",
       "    }\n",
       "</style>\n",
       "<table border=\"1\" class=\"dataframe\">\n",
       "  <thead>\n",
       "    <tr style=\"text-align: right;\">\n",
       "      <th></th>\n",
       "      <th>support</th>\n",
       "      <th>itemsets</th>\n",
       "    </tr>\n",
       "  </thead>\n",
       "  <tbody>\n",
       "    <tr>\n",
       "      <th>0</th>\n",
       "      <td>0.947468</td>\n",
       "      <td>(max_glu_serum_None)</td>\n",
       "    </tr>\n",
       "    <tr>\n",
       "      <th>1</th>\n",
       "      <td>0.832773</td>\n",
       "      <td>(A1Cresult_None)</td>\n",
       "    </tr>\n",
       "    <tr>\n",
       "      <th>2</th>\n",
       "      <td>0.539119</td>\n",
       "      <td>(readmitted_NO)</td>\n",
       "    </tr>\n",
       "    <tr>\n",
       "      <th>3</th>\n",
       "      <td>0.538048</td>\n",
       "      <td>(change_No)</td>\n",
       "    </tr>\n",
       "    <tr>\n",
       "      <th>4</th>\n",
       "      <td>0.465607</td>\n",
       "      <td>(insulin_No)</td>\n",
       "    </tr>\n",
       "    <tr>\n",
       "      <th>...</th>\n",
       "      <td>...</td>\n",
       "      <td>...</td>\n",
       "    </tr>\n",
       "    <tr>\n",
       "      <th>442</th>\n",
       "      <td>0.085864</td>\n",
       "      <td>(A1Cresult_None, change_Ch, insulin_Down, max_...</td>\n",
       "    </tr>\n",
       "    <tr>\n",
       "      <th>443</th>\n",
       "      <td>0.085864</td>\n",
       "      <td>(insulin_Down, change_Ch, A1Cresult_None, diab...</td>\n",
       "    </tr>\n",
       "    <tr>\n",
       "      <th>444</th>\n",
       "      <td>0.078995</td>\n",
       "      <td>(max_glu_serum_None, A1Cresult_&gt;8)</td>\n",
       "    </tr>\n",
       "    <tr>\n",
       "      <th>445</th>\n",
       "      <td>0.072844</td>\n",
       "      <td>(A1Cresult_&gt;8, diabetesMed_Yes)</td>\n",
       "    </tr>\n",
       "    <tr>\n",
       "      <th>446</th>\n",
       "      <td>0.071743</td>\n",
       "      <td>(max_glu_serum_None, A1Cresult_&gt;8, diabetesMed...</td>\n",
       "    </tr>\n",
       "  </tbody>\n",
       "</table>\n",
       "<p>447 rows × 2 columns</p>\n",
       "</div>"
      ],
      "text/plain": [
       "      support                                           itemsets\n",
       "0    0.947468                               (max_glu_serum_None)\n",
       "1    0.832773                                   (A1Cresult_None)\n",
       "2    0.539119                                    (readmitted_NO)\n",
       "3    0.538048                                        (change_No)\n",
       "4    0.465607                                       (insulin_No)\n",
       "..        ...                                                ...\n",
       "442  0.085864  (A1Cresult_None, change_Ch, insulin_Down, max_...\n",
       "443  0.085864  (insulin_Down, change_Ch, A1Cresult_None, diab...\n",
       "444  0.078995                 (max_glu_serum_None, A1Cresult_>8)\n",
       "445  0.072844                    (A1Cresult_>8, diabetesMed_Yes)\n",
       "446  0.071743  (max_glu_serum_None, A1Cresult_>8, diabetesMed...\n",
       "\n",
       "[447 rows x 2 columns]"
      ]
     },
     "execution_count": 57,
     "metadata": {},
     "output_type": "execute_result"
    }
   ],
   "source": [
    "frequent_itemsets = fpgrowth(modelData_hotencoded, min_support=0.06, use_colnames=True)\n",
    "frequent_itemsets\n",
    "#Using fpgrowth algorithm for association rule mining"
   ]
  },
  {
   "cell_type": "code",
   "execution_count": 58,
   "id": "d9331289",
   "metadata": {},
   "outputs": [
    {
     "data": {
      "text/html": [
       "<div>\n",
       "<style scoped>\n",
       "    .dataframe tbody tr th:only-of-type {\n",
       "        vertical-align: middle;\n",
       "    }\n",
       "\n",
       "    .dataframe tbody tr th {\n",
       "        vertical-align: top;\n",
       "    }\n",
       "\n",
       "    .dataframe thead th {\n",
       "        text-align: right;\n",
       "    }\n",
       "</style>\n",
       "<table border=\"1\" class=\"dataframe\">\n",
       "  <thead>\n",
       "    <tr style=\"text-align: right;\">\n",
       "      <th></th>\n",
       "      <th>antecedents</th>\n",
       "      <th>consequents</th>\n",
       "      <th>antecedent support</th>\n",
       "      <th>consequent support</th>\n",
       "      <th>support</th>\n",
       "      <th>confidence</th>\n",
       "      <th>lift</th>\n",
       "      <th>leverage</th>\n",
       "      <th>conviction</th>\n",
       "    </tr>\n",
       "  </thead>\n",
       "  <tbody>\n",
       "    <tr>\n",
       "      <th>0</th>\n",
       "      <td>(A1Cresult_None)</td>\n",
       "      <td>(max_glu_serum_None)</td>\n",
       "      <td>0.832773</td>\n",
       "      <td>0.947468</td>\n",
       "      <td>0.783169</td>\n",
       "      <td>0.940435</td>\n",
       "      <td>0.992578</td>\n",
       "      <td>-0.005857</td>\n",
       "      <td>0.881935</td>\n",
       "    </tr>\n",
       "    <tr>\n",
       "      <th>1</th>\n",
       "      <td>(max_glu_serum_None)</td>\n",
       "      <td>(A1Cresult_None)</td>\n",
       "      <td>0.947468</td>\n",
       "      <td>0.832773</td>\n",
       "      <td>0.783169</td>\n",
       "      <td>0.826592</td>\n",
       "      <td>0.992578</td>\n",
       "      <td>-0.005857</td>\n",
       "      <td>0.964354</td>\n",
       "    </tr>\n",
       "    <tr>\n",
       "      <th>2</th>\n",
       "      <td>(readmitted_NO)</td>\n",
       "      <td>(max_glu_serum_None)</td>\n",
       "      <td>0.539119</td>\n",
       "      <td>0.947468</td>\n",
       "      <td>0.512106</td>\n",
       "      <td>0.949894</td>\n",
       "      <td>1.002561</td>\n",
       "      <td>0.001308</td>\n",
       "      <td>1.048429</td>\n",
       "    </tr>\n",
       "    <tr>\n",
       "      <th>3</th>\n",
       "      <td>(readmitted_NO)</td>\n",
       "      <td>(A1Cresult_None)</td>\n",
       "      <td>0.539119</td>\n",
       "      <td>0.832773</td>\n",
       "      <td>0.445355</td>\n",
       "      <td>0.826079</td>\n",
       "      <td>0.991962</td>\n",
       "      <td>-0.003609</td>\n",
       "      <td>0.961510</td>\n",
       "    </tr>\n",
       "    <tr>\n",
       "      <th>4</th>\n",
       "      <td>(readmitted_NO)</td>\n",
       "      <td>(diabetesMed_Yes)</td>\n",
       "      <td>0.539119</td>\n",
       "      <td>0.770031</td>\n",
       "      <td>0.402237</td>\n",
       "      <td>0.746099</td>\n",
       "      <td>0.968921</td>\n",
       "      <td>-0.012902</td>\n",
       "      <td>0.905743</td>\n",
       "    </tr>\n",
       "    <tr>\n",
       "      <th>...</th>\n",
       "      <td>...</td>\n",
       "      <td>...</td>\n",
       "      <td>...</td>\n",
       "      <td>...</td>\n",
       "      <td>...</td>\n",
       "      <td>...</td>\n",
       "      <td>...</td>\n",
       "      <td>...</td>\n",
       "      <td>...</td>\n",
       "    </tr>\n",
       "    <tr>\n",
       "      <th>993</th>\n",
       "      <td>(A1Cresult_&gt;8)</td>\n",
       "      <td>(max_glu_serum_None)</td>\n",
       "      <td>0.080734</td>\n",
       "      <td>0.947468</td>\n",
       "      <td>0.078995</td>\n",
       "      <td>0.978457</td>\n",
       "      <td>1.032707</td>\n",
       "      <td>0.002502</td>\n",
       "      <td>2.438448</td>\n",
       "    </tr>\n",
       "    <tr>\n",
       "      <th>994</th>\n",
       "      <td>(A1Cresult_&gt;8)</td>\n",
       "      <td>(diabetesMed_Yes)</td>\n",
       "      <td>0.080734</td>\n",
       "      <td>0.770031</td>\n",
       "      <td>0.072844</td>\n",
       "      <td>0.902264</td>\n",
       "      <td>1.171724</td>\n",
       "      <td>0.010676</td>\n",
       "      <td>2.352955</td>\n",
       "    </tr>\n",
       "    <tr>\n",
       "      <th>995</th>\n",
       "      <td>(max_glu_serum_None, A1Cresult_&gt;8)</td>\n",
       "      <td>(diabetesMed_Yes)</td>\n",
       "      <td>0.078995</td>\n",
       "      <td>0.770031</td>\n",
       "      <td>0.071743</td>\n",
       "      <td>0.908198</td>\n",
       "      <td>1.179429</td>\n",
       "      <td>0.010914</td>\n",
       "      <td>2.505039</td>\n",
       "    </tr>\n",
       "    <tr>\n",
       "      <th>996</th>\n",
       "      <td>(A1Cresult_&gt;8, diabetesMed_Yes)</td>\n",
       "      <td>(max_glu_serum_None)</td>\n",
       "      <td>0.072844</td>\n",
       "      <td>0.947468</td>\n",
       "      <td>0.071743</td>\n",
       "      <td>0.984891</td>\n",
       "      <td>1.039499</td>\n",
       "      <td>0.002726</td>\n",
       "      <td>3.476980</td>\n",
       "    </tr>\n",
       "    <tr>\n",
       "      <th>997</th>\n",
       "      <td>(A1Cresult_&gt;8)</td>\n",
       "      <td>(max_glu_serum_None, diabetesMed_Yes)</td>\n",
       "      <td>0.080734</td>\n",
       "      <td>0.731384</td>\n",
       "      <td>0.071743</td>\n",
       "      <td>0.888632</td>\n",
       "      <td>1.215001</td>\n",
       "      <td>0.012695</td>\n",
       "      <td>2.411968</td>\n",
       "    </tr>\n",
       "  </tbody>\n",
       "</table>\n",
       "<p>998 rows × 9 columns</p>\n",
       "</div>"
      ],
      "text/plain": [
       "                            antecedents  \\\n",
       "0                      (A1Cresult_None)   \n",
       "1                  (max_glu_serum_None)   \n",
       "2                       (readmitted_NO)   \n",
       "3                       (readmitted_NO)   \n",
       "4                       (readmitted_NO)   \n",
       "..                                  ...   \n",
       "993                      (A1Cresult_>8)   \n",
       "994                      (A1Cresult_>8)   \n",
       "995  (max_glu_serum_None, A1Cresult_>8)   \n",
       "996     (A1Cresult_>8, diabetesMed_Yes)   \n",
       "997                      (A1Cresult_>8)   \n",
       "\n",
       "                               consequents  antecedent support  \\\n",
       "0                     (max_glu_serum_None)            0.832773   \n",
       "1                         (A1Cresult_None)            0.947468   \n",
       "2                     (max_glu_serum_None)            0.539119   \n",
       "3                         (A1Cresult_None)            0.539119   \n",
       "4                        (diabetesMed_Yes)            0.539119   \n",
       "..                                     ...                 ...   \n",
       "993                   (max_glu_serum_None)            0.080734   \n",
       "994                      (diabetesMed_Yes)            0.080734   \n",
       "995                      (diabetesMed_Yes)            0.078995   \n",
       "996                   (max_glu_serum_None)            0.072844   \n",
       "997  (max_glu_serum_None, diabetesMed_Yes)            0.080734   \n",
       "\n",
       "     consequent support   support  confidence      lift  leverage  conviction  \n",
       "0              0.947468  0.783169    0.940435  0.992578 -0.005857    0.881935  \n",
       "1              0.832773  0.783169    0.826592  0.992578 -0.005857    0.964354  \n",
       "2              0.947468  0.512106    0.949894  1.002561  0.001308    1.048429  \n",
       "3              0.832773  0.445355    0.826079  0.991962 -0.003609    0.961510  \n",
       "4              0.770031  0.402237    0.746099  0.968921 -0.012902    0.905743  \n",
       "..                  ...       ...         ...       ...       ...         ...  \n",
       "993            0.947468  0.078995    0.978457  1.032707  0.002502    2.438448  \n",
       "994            0.770031  0.072844    0.902264  1.171724  0.010676    2.352955  \n",
       "995            0.770031  0.071743    0.908198  1.179429  0.010914    2.505039  \n",
       "996            0.947468  0.071743    0.984891  1.039499  0.002726    3.476980  \n",
       "997            0.731384  0.071743    0.888632  1.215001  0.012695    2.411968  \n",
       "\n",
       "[998 rows x 9 columns]"
      ]
     },
     "execution_count": 58,
     "metadata": {},
     "output_type": "execute_result"
    }
   ],
   "source": [
    "from mlxtend.frequent_patterns import association_rules\n",
    "\n",
    "association_rules(frequent_itemsets, metric=\"confidence\", min_threshold=0.7)\n",
    "#rules for a minimum confidence of 0.7"
   ]
  },
  {
   "cell_type": "code",
   "execution_count": 59,
   "id": "a757ea92",
   "metadata": {},
   "outputs": [
    {
     "data": {
      "text/html": [
       "<div>\n",
       "<style scoped>\n",
       "    .dataframe tbody tr th:only-of-type {\n",
       "        vertical-align: middle;\n",
       "    }\n",
       "\n",
       "    .dataframe tbody tr th {\n",
       "        vertical-align: top;\n",
       "    }\n",
       "\n",
       "    .dataframe thead th {\n",
       "        text-align: right;\n",
       "    }\n",
       "</style>\n",
       "<table border=\"1\" class=\"dataframe\">\n",
       "  <thead>\n",
       "    <tr style=\"text-align: right;\">\n",
       "      <th></th>\n",
       "      <th>antecedents</th>\n",
       "      <th>consequents</th>\n",
       "      <th>antecedent support</th>\n",
       "      <th>consequent support</th>\n",
       "      <th>support</th>\n",
       "      <th>confidence</th>\n",
       "      <th>lift</th>\n",
       "      <th>leverage</th>\n",
       "      <th>conviction</th>\n",
       "    </tr>\n",
       "  </thead>\n",
       "  <tbody>\n",
       "    <tr>\n",
       "      <th>0</th>\n",
       "      <td>(max_glu_serum_None)</td>\n",
       "      <td>(readmitted_NO)</td>\n",
       "      <td>0.947468</td>\n",
       "      <td>0.539119</td>\n",
       "      <td>0.512106</td>\n",
       "      <td>0.540500</td>\n",
       "      <td>1.002561</td>\n",
       "      <td>0.001308</td>\n",
       "      <td>1.003005</td>\n",
       "    </tr>\n",
       "    <tr>\n",
       "      <th>1</th>\n",
       "      <td>(readmitted_NO)</td>\n",
       "      <td>(max_glu_serum_None)</td>\n",
       "      <td>0.539119</td>\n",
       "      <td>0.947468</td>\n",
       "      <td>0.512106</td>\n",
       "      <td>0.949894</td>\n",
       "      <td>1.002561</td>\n",
       "      <td>0.001308</td>\n",
       "      <td>1.048429</td>\n",
       "    </tr>\n",
       "    <tr>\n",
       "      <th>2</th>\n",
       "      <td>(diabetesMed_Yes, readmitted_NO)</td>\n",
       "      <td>(max_glu_serum_None)</td>\n",
       "      <td>0.402237</td>\n",
       "      <td>0.947468</td>\n",
       "      <td>0.382829</td>\n",
       "      <td>0.951752</td>\n",
       "      <td>1.004521</td>\n",
       "      <td>0.001723</td>\n",
       "      <td>1.088788</td>\n",
       "    </tr>\n",
       "    <tr>\n",
       "      <th>3</th>\n",
       "      <td>(max_glu_serum_None)</td>\n",
       "      <td>(diabetesMed_Yes, readmitted_NO)</td>\n",
       "      <td>0.947468</td>\n",
       "      <td>0.402237</td>\n",
       "      <td>0.382829</td>\n",
       "      <td>0.404055</td>\n",
       "      <td>1.004521</td>\n",
       "      <td>0.001723</td>\n",
       "      <td>1.003052</td>\n",
       "    </tr>\n",
       "    <tr>\n",
       "      <th>4</th>\n",
       "      <td>(A1Cresult_None)</td>\n",
       "      <td>(change_No)</td>\n",
       "      <td>0.832773</td>\n",
       "      <td>0.538048</td>\n",
       "      <td>0.464074</td>\n",
       "      <td>0.557264</td>\n",
       "      <td>1.035714</td>\n",
       "      <td>0.016002</td>\n",
       "      <td>1.043402</td>\n",
       "    </tr>\n",
       "    <tr>\n",
       "      <th>...</th>\n",
       "      <td>...</td>\n",
       "      <td>...</td>\n",
       "      <td>...</td>\n",
       "      <td>...</td>\n",
       "      <td>...</td>\n",
       "      <td>...</td>\n",
       "      <td>...</td>\n",
       "      <td>...</td>\n",
       "      <td>...</td>\n",
       "    </tr>\n",
       "    <tr>\n",
       "      <th>2869</th>\n",
       "      <td>(max_glu_serum_None, diabetesMed_Yes)</td>\n",
       "      <td>(A1Cresult_&gt;8)</td>\n",
       "      <td>0.731384</td>\n",
       "      <td>0.080734</td>\n",
       "      <td>0.071743</td>\n",
       "      <td>0.098092</td>\n",
       "      <td>1.215001</td>\n",
       "      <td>0.012695</td>\n",
       "      <td>1.019246</td>\n",
       "    </tr>\n",
       "    <tr>\n",
       "      <th>2870</th>\n",
       "      <td>(A1Cresult_&gt;8, diabetesMed_Yes)</td>\n",
       "      <td>(max_glu_serum_None)</td>\n",
       "      <td>0.072844</td>\n",
       "      <td>0.947468</td>\n",
       "      <td>0.071743</td>\n",
       "      <td>0.984891</td>\n",
       "      <td>1.039499</td>\n",
       "      <td>0.002726</td>\n",
       "      <td>3.476980</td>\n",
       "    </tr>\n",
       "    <tr>\n",
       "      <th>2871</th>\n",
       "      <td>(max_glu_serum_None)</td>\n",
       "      <td>(A1Cresult_&gt;8, diabetesMed_Yes)</td>\n",
       "      <td>0.947468</td>\n",
       "      <td>0.072844</td>\n",
       "      <td>0.071743</td>\n",
       "      <td>0.075721</td>\n",
       "      <td>1.039499</td>\n",
       "      <td>0.002726</td>\n",
       "      <td>1.003113</td>\n",
       "    </tr>\n",
       "    <tr>\n",
       "      <th>2872</th>\n",
       "      <td>(A1Cresult_&gt;8)</td>\n",
       "      <td>(max_glu_serum_None, diabetesMed_Yes)</td>\n",
       "      <td>0.080734</td>\n",
       "      <td>0.731384</td>\n",
       "      <td>0.071743</td>\n",
       "      <td>0.888632</td>\n",
       "      <td>1.215001</td>\n",
       "      <td>0.012695</td>\n",
       "      <td>2.411968</td>\n",
       "    </tr>\n",
       "    <tr>\n",
       "      <th>2873</th>\n",
       "      <td>(diabetesMed_Yes)</td>\n",
       "      <td>(max_glu_serum_None, A1Cresult_&gt;8)</td>\n",
       "      <td>0.770031</td>\n",
       "      <td>0.078995</td>\n",
       "      <td>0.071743</td>\n",
       "      <td>0.093169</td>\n",
       "      <td>1.179429</td>\n",
       "      <td>0.010914</td>\n",
       "      <td>1.015630</td>\n",
       "    </tr>\n",
       "  </tbody>\n",
       "</table>\n",
       "<p>2874 rows × 9 columns</p>\n",
       "</div>"
      ],
      "text/plain": [
       "                                antecedents  \\\n",
       "0                      (max_glu_serum_None)   \n",
       "1                           (readmitted_NO)   \n",
       "2          (diabetesMed_Yes, readmitted_NO)   \n",
       "3                      (max_glu_serum_None)   \n",
       "4                          (A1Cresult_None)   \n",
       "...                                     ...   \n",
       "2869  (max_glu_serum_None, diabetesMed_Yes)   \n",
       "2870        (A1Cresult_>8, diabetesMed_Yes)   \n",
       "2871                   (max_glu_serum_None)   \n",
       "2872                         (A1Cresult_>8)   \n",
       "2873                      (diabetesMed_Yes)   \n",
       "\n",
       "                                consequents  antecedent support  \\\n",
       "0                           (readmitted_NO)            0.947468   \n",
       "1                      (max_glu_serum_None)            0.539119   \n",
       "2                      (max_glu_serum_None)            0.402237   \n",
       "3          (diabetesMed_Yes, readmitted_NO)            0.947468   \n",
       "4                               (change_No)            0.832773   \n",
       "...                                     ...                 ...   \n",
       "2869                         (A1Cresult_>8)            0.731384   \n",
       "2870                   (max_glu_serum_None)            0.072844   \n",
       "2871        (A1Cresult_>8, diabetesMed_Yes)            0.947468   \n",
       "2872  (max_glu_serum_None, diabetesMed_Yes)            0.080734   \n",
       "2873     (max_glu_serum_None, A1Cresult_>8)            0.770031   \n",
       "\n",
       "      consequent support   support  confidence      lift  leverage  conviction  \n",
       "0               0.539119  0.512106    0.540500  1.002561  0.001308    1.003005  \n",
       "1               0.947468  0.512106    0.949894  1.002561  0.001308    1.048429  \n",
       "2               0.947468  0.382829    0.951752  1.004521  0.001723    1.088788  \n",
       "3               0.402237  0.382829    0.404055  1.004521  0.001723    1.003052  \n",
       "4               0.538048  0.464074    0.557264  1.035714  0.016002    1.043402  \n",
       "...                  ...       ...         ...       ...       ...         ...  \n",
       "2869            0.080734  0.071743    0.098092  1.215001  0.012695    1.019246  \n",
       "2870            0.947468  0.071743    0.984891  1.039499  0.002726    3.476980  \n",
       "2871            0.072844  0.071743    0.075721  1.039499  0.002726    1.003113  \n",
       "2872            0.731384  0.071743    0.888632  1.215001  0.012695    2.411968  \n",
       "2873            0.078995  0.071743    0.093169  1.179429  0.010914    1.015630  \n",
       "\n",
       "[2874 rows x 9 columns]"
      ]
     },
     "execution_count": 59,
     "metadata": {},
     "output_type": "execute_result"
    }
   ],
   "source": [
    "rules = association_rules(frequent_itemsets, metric=\"lift\", min_threshold=1)\n",
    "rules\n",
    "#rules for a minimum threshold of 1"
   ]
  },
  {
   "cell_type": "code",
   "execution_count": 60,
   "id": "5e14f25e",
   "metadata": {},
   "outputs": [],
   "source": [
    "rule1 = rules[rules['consequents'] == {'readmitted_NO'}]\n",
    "#the antecedents when consequents is 'readmitted_NO'"
   ]
  },
  {
   "cell_type": "code",
   "execution_count": 61,
   "id": "c55bc4f2",
   "metadata": {},
   "outputs": [
    {
     "data": {
      "text/html": [
       "<div>\n",
       "<style scoped>\n",
       "    .dataframe tbody tr th:only-of-type {\n",
       "        vertical-align: middle;\n",
       "    }\n",
       "\n",
       "    .dataframe tbody tr th {\n",
       "        vertical-align: top;\n",
       "    }\n",
       "\n",
       "    .dataframe thead th {\n",
       "        text-align: right;\n",
       "    }\n",
       "</style>\n",
       "<table border=\"1\" class=\"dataframe\">\n",
       "  <thead>\n",
       "    <tr style=\"text-align: right;\">\n",
       "      <th></th>\n",
       "      <th>antecedents</th>\n",
       "      <th>consequents</th>\n",
       "      <th>antecedent support</th>\n",
       "      <th>consequent support</th>\n",
       "      <th>support</th>\n",
       "      <th>confidence</th>\n",
       "      <th>lift</th>\n",
       "      <th>leverage</th>\n",
       "      <th>conviction</th>\n",
       "    </tr>\n",
       "  </thead>\n",
       "  <tbody>\n",
       "    <tr>\n",
       "      <th>0</th>\n",
       "      <td>(max_glu_serum_None)</td>\n",
       "      <td>(readmitted_NO)</td>\n",
       "      <td>0.947468</td>\n",
       "      <td>0.539119</td>\n",
       "      <td>0.512106</td>\n",
       "      <td>0.540500</td>\n",
       "      <td>1.002561</td>\n",
       "      <td>0.001308</td>\n",
       "      <td>1.003005</td>\n",
       "    </tr>\n",
       "    <tr>\n",
       "      <th>6</th>\n",
       "      <td>(change_No)</td>\n",
       "      <td>(readmitted_NO)</td>\n",
       "      <td>0.538048</td>\n",
       "      <td>0.539119</td>\n",
       "      <td>0.301505</td>\n",
       "      <td>0.560369</td>\n",
       "      <td>1.039416</td>\n",
       "      <td>0.011433</td>\n",
       "      <td>1.048335</td>\n",
       "    </tr>\n",
       "    <tr>\n",
       "      <th>12</th>\n",
       "      <td>(max_glu_serum_None, change_No)</td>\n",
       "      <td>(readmitted_NO)</td>\n",
       "      <td>0.508677</td>\n",
       "      <td>0.539119</td>\n",
       "      <td>0.286078</td>\n",
       "      <td>0.562396</td>\n",
       "      <td>1.043176</td>\n",
       "      <td>0.011840</td>\n",
       "      <td>1.053192</td>\n",
       "    </tr>\n",
       "    <tr>\n",
       "      <th>18</th>\n",
       "      <td>(A1Cresult_None, change_No)</td>\n",
       "      <td>(readmitted_NO)</td>\n",
       "      <td>0.464074</td>\n",
       "      <td>0.539119</td>\n",
       "      <td>0.257846</td>\n",
       "      <td>0.555614</td>\n",
       "      <td>1.030597</td>\n",
       "      <td>0.007655</td>\n",
       "      <td>1.037119</td>\n",
       "    </tr>\n",
       "    <tr>\n",
       "      <th>24</th>\n",
       "      <td>(A1Cresult_None, max_glu_serum_None, change_No)</td>\n",
       "      <td>(readmitted_NO)</td>\n",
       "      <td>0.436757</td>\n",
       "      <td>0.539119</td>\n",
       "      <td>0.243313</td>\n",
       "      <td>0.557090</td>\n",
       "      <td>1.033335</td>\n",
       "      <td>0.007849</td>\n",
       "      <td>1.040576</td>\n",
       "    </tr>\n",
       "    <tr>\n",
       "      <th>...</th>\n",
       "      <td>...</td>\n",
       "      <td>...</td>\n",
       "      <td>...</td>\n",
       "      <td>...</td>\n",
       "      <td>...</td>\n",
       "      <td>...</td>\n",
       "      <td>...</td>\n",
       "      <td>...</td>\n",
       "      <td>...</td>\n",
       "    </tr>\n",
       "    <tr>\n",
       "      <th>1850</th>\n",
       "      <td>(max_glu_serum_None, diabetesMed_Yes, age_[50-...</td>\n",
       "      <td>(readmitted_NO)</td>\n",
       "      <td>0.126565</td>\n",
       "      <td>0.539119</td>\n",
       "      <td>0.069670</td>\n",
       "      <td>0.550466</td>\n",
       "      <td>1.021047</td>\n",
       "      <td>0.001436</td>\n",
       "      <td>1.025241</td>\n",
       "    </tr>\n",
       "    <tr>\n",
       "      <th>2068</th>\n",
       "      <td>(age_[60-70), change_No)</td>\n",
       "      <td>(readmitted_NO)</td>\n",
       "      <td>0.114095</td>\n",
       "      <td>0.539119</td>\n",
       "      <td>0.063037</td>\n",
       "      <td>0.552493</td>\n",
       "      <td>1.024807</td>\n",
       "      <td>0.001526</td>\n",
       "      <td>1.029886</td>\n",
       "    </tr>\n",
       "    <tr>\n",
       "      <th>2078</th>\n",
       "      <td>(max_glu_serum_None, age_[60-70), change_No)</td>\n",
       "      <td>(readmitted_NO)</td>\n",
       "      <td>0.108907</td>\n",
       "      <td>0.539119</td>\n",
       "      <td>0.060344</td>\n",
       "      <td>0.554092</td>\n",
       "      <td>1.027773</td>\n",
       "      <td>0.001631</td>\n",
       "      <td>1.033578</td>\n",
       "    </tr>\n",
       "    <tr>\n",
       "      <th>2360</th>\n",
       "      <td>(max_glu_serum_None, age_[70-80), insulin_No)</td>\n",
       "      <td>(readmitted_NO)</td>\n",
       "      <td>0.119765</td>\n",
       "      <td>0.539119</td>\n",
       "      <td>0.064688</td>\n",
       "      <td>0.540121</td>\n",
       "      <td>1.001859</td>\n",
       "      <td>0.000120</td>\n",
       "      <td>1.002179</td>\n",
       "    </tr>\n",
       "    <tr>\n",
       "      <th>2524</th>\n",
       "      <td>(max_glu_serum_None, age_[70-80), change_No)</td>\n",
       "      <td>(readmitted_NO)</td>\n",
       "      <td>0.131350</td>\n",
       "      <td>0.539119</td>\n",
       "      <td>0.070829</td>\n",
       "      <td>0.539238</td>\n",
       "      <td>1.000221</td>\n",
       "      <td>0.000016</td>\n",
       "      <td>1.000259</td>\n",
       "    </tr>\n",
       "  </tbody>\n",
       "</table>\n",
       "<p>59 rows × 9 columns</p>\n",
       "</div>"
      ],
      "text/plain": [
       "                                            antecedents      consequents  \\\n",
       "0                                  (max_glu_serum_None)  (readmitted_NO)   \n",
       "6                                           (change_No)  (readmitted_NO)   \n",
       "12                      (max_glu_serum_None, change_No)  (readmitted_NO)   \n",
       "18                          (A1Cresult_None, change_No)  (readmitted_NO)   \n",
       "24      (A1Cresult_None, max_glu_serum_None, change_No)  (readmitted_NO)   \n",
       "...                                                 ...              ...   \n",
       "1850  (max_glu_serum_None, diabetesMed_Yes, age_[50-...  (readmitted_NO)   \n",
       "2068                           (age_[60-70), change_No)  (readmitted_NO)   \n",
       "2078       (max_glu_serum_None, age_[60-70), change_No)  (readmitted_NO)   \n",
       "2360      (max_glu_serum_None, age_[70-80), insulin_No)  (readmitted_NO)   \n",
       "2524       (max_glu_serum_None, age_[70-80), change_No)  (readmitted_NO)   \n",
       "\n",
       "      antecedent support  consequent support   support  confidence      lift  \\\n",
       "0               0.947468            0.539119  0.512106    0.540500  1.002561   \n",
       "6               0.538048            0.539119  0.301505    0.560369  1.039416   \n",
       "12              0.508677            0.539119  0.286078    0.562396  1.043176   \n",
       "18              0.464074            0.539119  0.257846    0.555614  1.030597   \n",
       "24              0.436757            0.539119  0.243313    0.557090  1.033335   \n",
       "...                  ...                 ...       ...         ...       ...   \n",
       "1850            0.126565            0.539119  0.069670    0.550466  1.021047   \n",
       "2068            0.114095            0.539119  0.063037    0.552493  1.024807   \n",
       "2078            0.108907            0.539119  0.060344    0.554092  1.027773   \n",
       "2360            0.119765            0.539119  0.064688    0.540121  1.001859   \n",
       "2524            0.131350            0.539119  0.070829    0.539238  1.000221   \n",
       "\n",
       "      leverage  conviction  \n",
       "0     0.001308    1.003005  \n",
       "6     0.011433    1.048335  \n",
       "12    0.011840    1.053192  \n",
       "18    0.007655    1.037119  \n",
       "24    0.007849    1.040576  \n",
       "...        ...         ...  \n",
       "1850  0.001436    1.025241  \n",
       "2068  0.001526    1.029886  \n",
       "2078  0.001631    1.033578  \n",
       "2360  0.000120    1.002179  \n",
       "2524  0.000016    1.000259  \n",
       "\n",
       "[59 rows x 9 columns]"
      ]
     },
     "execution_count": 61,
     "metadata": {},
     "output_type": "execute_result"
    }
   ],
   "source": [
    "rule1\n",
    "#displaying all the rules"
   ]
  },
  {
   "cell_type": "code",
   "execution_count": 62,
   "id": "e4309c5e",
   "metadata": {},
   "outputs": [
    {
     "data": {
      "text/plain": [
       "antecedents           (max_glu_serum_None, diabetesMed_No)\n",
       "consequents                                (readmitted_NO)\n",
       "antecedent support                                0.216084\n",
       "consequent support                                0.539119\n",
       "support                                           0.129277\n",
       "confidence                                        0.598272\n",
       "lift                                              1.109721\n",
       "leverage                                          0.012782\n",
       "conviction                                        1.147246\n",
       "Name: 440, dtype: object"
      ]
     },
     "execution_count": 62,
     "metadata": {},
     "output_type": "execute_result"
    }
   ],
   "source": [
    "rule1.loc[rule1['lift'].idxmax()]\n",
    "#best conditions for readmitted_NO"
   ]
  },
  {
   "cell_type": "markdown",
   "id": "1b41cd64",
   "metadata": {},
   "source": [
    "The best conditions for no readmittance is diabetesMed_No, max_glu_serum_None"
   ]
  },
  {
   "cell_type": "code",
   "execution_count": 63,
   "id": "597eb2e2",
   "metadata": {},
   "outputs": [],
   "source": [
    "rule2 = rules[rules['consequents'] == {'readmitted_>30'}]\n",
    "#the antecedents when consequents is 'readmitted_>30'"
   ]
  },
  {
   "cell_type": "code",
   "execution_count": 64,
   "id": "56734d03",
   "metadata": {},
   "outputs": [
    {
     "data": {
      "text/html": [
       "<div>\n",
       "<style scoped>\n",
       "    .dataframe tbody tr th:only-of-type {\n",
       "        vertical-align: middle;\n",
       "    }\n",
       "\n",
       "    .dataframe tbody tr th {\n",
       "        vertical-align: top;\n",
       "    }\n",
       "\n",
       "    .dataframe thead th {\n",
       "        text-align: right;\n",
       "    }\n",
       "</style>\n",
       "<table border=\"1\" class=\"dataframe\">\n",
       "  <thead>\n",
       "    <tr style=\"text-align: right;\">\n",
       "      <th></th>\n",
       "      <th>antecedents</th>\n",
       "      <th>consequents</th>\n",
       "      <th>antecedent support</th>\n",
       "      <th>consequent support</th>\n",
       "      <th>support</th>\n",
       "      <th>confidence</th>\n",
       "      <th>lift</th>\n",
       "      <th>leverage</th>\n",
       "      <th>conviction</th>\n",
       "    </tr>\n",
       "  </thead>\n",
       "  <tbody>\n",
       "    <tr>\n",
       "      <th>908</th>\n",
       "      <td>(A1Cresult_None)</td>\n",
       "      <td>(readmitted_&gt;30)</td>\n",
       "      <td>0.832773</td>\n",
       "      <td>0.349282</td>\n",
       "      <td>0.292288</td>\n",
       "      <td>0.350982</td>\n",
       "      <td>1.004867</td>\n",
       "      <td>0.001416</td>\n",
       "      <td>1.002619</td>\n",
       "    </tr>\n",
       "    <tr>\n",
       "      <th>910</th>\n",
       "      <td>(diabetesMed_Yes)</td>\n",
       "      <td>(readmitted_&gt;30)</td>\n",
       "      <td>0.770031</td>\n",
       "      <td>0.349282</td>\n",
       "      <td>0.278266</td>\n",
       "      <td>0.361370</td>\n",
       "      <td>1.034608</td>\n",
       "      <td>0.009308</td>\n",
       "      <td>1.018928</td>\n",
       "    </tr>\n",
       "    <tr>\n",
       "      <th>912</th>\n",
       "      <td>(change_Ch)</td>\n",
       "      <td>(readmitted_&gt;30)</td>\n",
       "      <td>0.461952</td>\n",
       "      <td>0.349282</td>\n",
       "      <td>0.169723</td>\n",
       "      <td>0.367403</td>\n",
       "      <td>1.051883</td>\n",
       "      <td>0.008371</td>\n",
       "      <td>1.028647</td>\n",
       "    </tr>\n",
       "    <tr>\n",
       "      <th>914</th>\n",
       "      <td>(A1Cresult_None, max_glu_serum_None)</td>\n",
       "      <td>(readmitted_&gt;30)</td>\n",
       "      <td>0.783169</td>\n",
       "      <td>0.349282</td>\n",
       "      <td>0.274630</td>\n",
       "      <td>0.350665</td>\n",
       "      <td>1.003960</td>\n",
       "      <td>0.001083</td>\n",
       "      <td>1.002130</td>\n",
       "    </tr>\n",
       "    <tr>\n",
       "      <th>916</th>\n",
       "      <td>(max_glu_serum_None, diabetesMed_Yes)</td>\n",
       "      <td>(readmitted_&gt;30)</td>\n",
       "      <td>0.731384</td>\n",
       "      <td>0.349282</td>\n",
       "      <td>0.264008</td>\n",
       "      <td>0.360970</td>\n",
       "      <td>1.033464</td>\n",
       "      <td>0.008549</td>\n",
       "      <td>1.018291</td>\n",
       "    </tr>\n",
       "    <tr>\n",
       "      <th>...</th>\n",
       "      <td>...</td>\n",
       "      <td>...</td>\n",
       "      <td>...</td>\n",
       "      <td>...</td>\n",
       "      <td>...</td>\n",
       "      <td>...</td>\n",
       "      <td>...</td>\n",
       "      <td>...</td>\n",
       "      <td>...</td>\n",
       "    </tr>\n",
       "    <tr>\n",
       "      <th>2392</th>\n",
       "      <td>(age_[70-80), diabetesMed_Yes)</td>\n",
       "      <td>(readmitted_&gt;30)</td>\n",
       "      <td>0.198406</td>\n",
       "      <td>0.349282</td>\n",
       "      <td>0.074740</td>\n",
       "      <td>0.376702</td>\n",
       "      <td>1.078506</td>\n",
       "      <td>0.005440</td>\n",
       "      <td>1.043993</td>\n",
       "    </tr>\n",
       "    <tr>\n",
       "      <th>2398</th>\n",
       "      <td>(A1Cresult_None, age_[70-80), max_glu_serum_None)</td>\n",
       "      <td>(readmitted_&gt;30)</td>\n",
       "      <td>0.206601</td>\n",
       "      <td>0.349282</td>\n",
       "      <td>0.074966</td>\n",
       "      <td>0.362854</td>\n",
       "      <td>1.038857</td>\n",
       "      <td>0.002804</td>\n",
       "      <td>1.021301</td>\n",
       "    </tr>\n",
       "    <tr>\n",
       "      <th>2410</th>\n",
       "      <td>(max_glu_serum_None, age_[70-80), diabetesMed_...</td>\n",
       "      <td>(readmitted_&gt;30)</td>\n",
       "      <td>0.186880</td>\n",
       "      <td>0.349282</td>\n",
       "      <td>0.070308</td>\n",
       "      <td>0.376223</td>\n",
       "      <td>1.077132</td>\n",
       "      <td>0.005035</td>\n",
       "      <td>1.043190</td>\n",
       "    </tr>\n",
       "    <tr>\n",
       "      <th>2422</th>\n",
       "      <td>(A1Cresult_None, age_[70-80), diabetesMed_Yes)</td>\n",
       "      <td>(readmitted_&gt;30)</td>\n",
       "      <td>0.169526</td>\n",
       "      <td>0.349282</td>\n",
       "      <td>0.063980</td>\n",
       "      <td>0.377406</td>\n",
       "      <td>1.080519</td>\n",
       "      <td>0.004768</td>\n",
       "      <td>1.045172</td>\n",
       "    </tr>\n",
       "    <tr>\n",
       "      <th>2619</th>\n",
       "      <td>(age_[80-90))</td>\n",
       "      <td>(readmitted_&gt;30)</td>\n",
       "      <td>0.168986</td>\n",
       "      <td>0.349282</td>\n",
       "      <td>0.061150</td>\n",
       "      <td>0.361865</td>\n",
       "      <td>1.036028</td>\n",
       "      <td>0.002126</td>\n",
       "      <td>1.019720</td>\n",
       "    </tr>\n",
       "  </tbody>\n",
       "</table>\n",
       "<p>35 rows × 9 columns</p>\n",
       "</div>"
      ],
      "text/plain": [
       "                                            antecedents       consequents  \\\n",
       "908                                    (A1Cresult_None)  (readmitted_>30)   \n",
       "910                                   (diabetesMed_Yes)  (readmitted_>30)   \n",
       "912                                         (change_Ch)  (readmitted_>30)   \n",
       "914                (A1Cresult_None, max_glu_serum_None)  (readmitted_>30)   \n",
       "916               (max_glu_serum_None, diabetesMed_Yes)  (readmitted_>30)   \n",
       "...                                                 ...               ...   \n",
       "2392                     (age_[70-80), diabetesMed_Yes)  (readmitted_>30)   \n",
       "2398  (A1Cresult_None, age_[70-80), max_glu_serum_None)  (readmitted_>30)   \n",
       "2410  (max_glu_serum_None, age_[70-80), diabetesMed_...  (readmitted_>30)   \n",
       "2422     (A1Cresult_None, age_[70-80), diabetesMed_Yes)  (readmitted_>30)   \n",
       "2619                                      (age_[80-90))  (readmitted_>30)   \n",
       "\n",
       "      antecedent support  consequent support   support  confidence      lift  \\\n",
       "908             0.832773            0.349282  0.292288    0.350982  1.004867   \n",
       "910             0.770031            0.349282  0.278266    0.361370  1.034608   \n",
       "912             0.461952            0.349282  0.169723    0.367403  1.051883   \n",
       "914             0.783169            0.349282  0.274630    0.350665  1.003960   \n",
       "916             0.731384            0.349282  0.264008    0.360970  1.033464   \n",
       "...                  ...                 ...       ...         ...       ...   \n",
       "2392            0.198406            0.349282  0.074740    0.376702  1.078506   \n",
       "2398            0.206601            0.349282  0.074966    0.362854  1.038857   \n",
       "2410            0.186880            0.349282  0.070308    0.376223  1.077132   \n",
       "2422            0.169526            0.349282  0.063980    0.377406  1.080519   \n",
       "2619            0.168986            0.349282  0.061150    0.361865  1.036028   \n",
       "\n",
       "      leverage  conviction  \n",
       "908   0.001416    1.002619  \n",
       "910   0.009308    1.018928  \n",
       "912   0.008371    1.028647  \n",
       "914   0.001083    1.002130  \n",
       "916   0.008549    1.018291  \n",
       "...        ...         ...  \n",
       "2392  0.005440    1.043993  \n",
       "2398  0.002804    1.021301  \n",
       "2410  0.005035    1.043190  \n",
       "2422  0.004768    1.045172  \n",
       "2619  0.002126    1.019720  \n",
       "\n",
       "[35 rows x 9 columns]"
      ]
     },
     "execution_count": 64,
     "metadata": {},
     "output_type": "execute_result"
    }
   ],
   "source": [
    "rule2\n",
    "#displaying the rules"
   ]
  },
  {
   "cell_type": "code",
   "execution_count": 65,
   "id": "c9cdecb5",
   "metadata": {},
   "outputs": [
    {
     "data": {
      "text/plain": [
       "antecedents           (A1Cresult_None, age_[70-80), diabetesMed_Yes)\n",
       "consequents                                         (readmitted_>30)\n",
       "antecedent support                                          0.169526\n",
       "consequent support                                          0.349282\n",
       "support                                                      0.06398\n",
       "confidence                                                  0.377406\n",
       "lift                                                        1.080519\n",
       "leverage                                                    0.004768\n",
       "conviction                                                  1.045172\n",
       "Name: 2422, dtype: object"
      ]
     },
     "execution_count": 65,
     "metadata": {},
     "output_type": "execute_result"
    }
   ],
   "source": [
    "rule2.loc[rule2['lift'].idxmax()]\n",
    "#best conditions for readmitted>30"
   ]
  },
  {
   "cell_type": "markdown",
   "id": "739bdea5",
   "metadata": {},
   "source": [
    "The best conditions for readmitted greater than 30 days are diabetesMed_Yes, age_[70-80), A1Cresult_None"
   ]
  },
  {
   "cell_type": "code",
   "execution_count": 66,
   "id": "a752d9b7",
   "metadata": {},
   "outputs": [],
   "source": [
    "rule3 = rules[rules['consequents'] == {'readmitted_<30'}]\n",
    "#the antecedents when consequents is 'readmitted_<30'"
   ]
  },
  {
   "cell_type": "code",
   "execution_count": 67,
   "id": "c6ca5e23",
   "metadata": {},
   "outputs": [
    {
     "data": {
      "text/html": [
       "<div>\n",
       "<style scoped>\n",
       "    .dataframe tbody tr th:only-of-type {\n",
       "        vertical-align: middle;\n",
       "    }\n",
       "\n",
       "    .dataframe tbody tr th {\n",
       "        vertical-align: top;\n",
       "    }\n",
       "\n",
       "    .dataframe thead th {\n",
       "        text-align: right;\n",
       "    }\n",
       "</style>\n",
       "<table border=\"1\" class=\"dataframe\">\n",
       "  <thead>\n",
       "    <tr style=\"text-align: right;\">\n",
       "      <th></th>\n",
       "      <th>antecedents</th>\n",
       "      <th>consequents</th>\n",
       "      <th>antecedent support</th>\n",
       "      <th>consequent support</th>\n",
       "      <th>support</th>\n",
       "      <th>confidence</th>\n",
       "      <th>lift</th>\n",
       "      <th>leverage</th>\n",
       "      <th>conviction</th>\n",
       "    </tr>\n",
       "  </thead>\n",
       "  <tbody>\n",
       "    <tr>\n",
       "      <th>2744</th>\n",
       "      <td>(A1Cresult_None)</td>\n",
       "      <td>(readmitted_&lt;30)</td>\n",
       "      <td>0.832773</td>\n",
       "      <td>0.111599</td>\n",
       "      <td>0.095130</td>\n",
       "      <td>0.114233</td>\n",
       "      <td>1.023599</td>\n",
       "      <td>0.002193</td>\n",
       "      <td>1.002973</td>\n",
       "    </tr>\n",
       "    <tr>\n",
       "      <th>2746</th>\n",
       "      <td>(diabetesMed_Yes)</td>\n",
       "      <td>(readmitted_&lt;30)</td>\n",
       "      <td>0.770031</td>\n",
       "      <td>0.111599</td>\n",
       "      <td>0.089529</td>\n",
       "      <td>0.116267</td>\n",
       "      <td>1.041823</td>\n",
       "      <td>0.003594</td>\n",
       "      <td>1.005282</td>\n",
       "    </tr>\n",
       "    <tr>\n",
       "      <th>2748</th>\n",
       "      <td>(A1Cresult_None, max_glu_serum_None)</td>\n",
       "      <td>(readmitted_&lt;30)</td>\n",
       "      <td>0.783169</td>\n",
       "      <td>0.111599</td>\n",
       "      <td>0.088988</td>\n",
       "      <td>0.113626</td>\n",
       "      <td>1.018163</td>\n",
       "      <td>0.001587</td>\n",
       "      <td>1.002287</td>\n",
       "    </tr>\n",
       "    <tr>\n",
       "      <th>2752</th>\n",
       "      <td>(max_glu_serum_None, diabetesMed_Yes)</td>\n",
       "      <td>(readmitted_&lt;30)</td>\n",
       "      <td>0.731384</td>\n",
       "      <td>0.111599</td>\n",
       "      <td>0.084547</td>\n",
       "      <td>0.115599</td>\n",
       "      <td>1.035837</td>\n",
       "      <td>0.002925</td>\n",
       "      <td>1.004522</td>\n",
       "    </tr>\n",
       "    <tr>\n",
       "      <th>2756</th>\n",
       "      <td>(A1Cresult_None, diabetesMed_Yes)</td>\n",
       "      <td>(readmitted_&lt;30)</td>\n",
       "      <td>0.630319</td>\n",
       "      <td>0.111599</td>\n",
       "      <td>0.075428</td>\n",
       "      <td>0.119666</td>\n",
       "      <td>1.072287</td>\n",
       "      <td>0.005085</td>\n",
       "      <td>1.009164</td>\n",
       "    </tr>\n",
       "    <tr>\n",
       "      <th>2762</th>\n",
       "      <td>(A1Cresult_None, diabetesMed_Yes, max_glu_seru...</td>\n",
       "      <td>(readmitted_&lt;30)</td>\n",
       "      <td>0.593410</td>\n",
       "      <td>0.111599</td>\n",
       "      <td>0.070642</td>\n",
       "      <td>0.119045</td>\n",
       "      <td>1.066718</td>\n",
       "      <td>0.004418</td>\n",
       "      <td>1.008452</td>\n",
       "    </tr>\n",
       "  </tbody>\n",
       "</table>\n",
       "</div>"
      ],
      "text/plain": [
       "                                            antecedents       consequents  \\\n",
       "2744                                   (A1Cresult_None)  (readmitted_<30)   \n",
       "2746                                  (diabetesMed_Yes)  (readmitted_<30)   \n",
       "2748               (A1Cresult_None, max_glu_serum_None)  (readmitted_<30)   \n",
       "2752              (max_glu_serum_None, diabetesMed_Yes)  (readmitted_<30)   \n",
       "2756                  (A1Cresult_None, diabetesMed_Yes)  (readmitted_<30)   \n",
       "2762  (A1Cresult_None, diabetesMed_Yes, max_glu_seru...  (readmitted_<30)   \n",
       "\n",
       "      antecedent support  consequent support   support  confidence      lift  \\\n",
       "2744            0.832773            0.111599  0.095130    0.114233  1.023599   \n",
       "2746            0.770031            0.111599  0.089529    0.116267  1.041823   \n",
       "2748            0.783169            0.111599  0.088988    0.113626  1.018163   \n",
       "2752            0.731384            0.111599  0.084547    0.115599  1.035837   \n",
       "2756            0.630319            0.111599  0.075428    0.119666  1.072287   \n",
       "2762            0.593410            0.111599  0.070642    0.119045  1.066718   \n",
       "\n",
       "      leverage  conviction  \n",
       "2744  0.002193    1.002973  \n",
       "2746  0.003594    1.005282  \n",
       "2748  0.001587    1.002287  \n",
       "2752  0.002925    1.004522  \n",
       "2756  0.005085    1.009164  \n",
       "2762  0.004418    1.008452  "
      ]
     },
     "execution_count": 67,
     "metadata": {},
     "output_type": "execute_result"
    }
   ],
   "source": [
    "rule3\n",
    "#displaying the rules"
   ]
  },
  {
   "cell_type": "code",
   "execution_count": 68,
   "id": "26c6b3ac",
   "metadata": {},
   "outputs": [
    {
     "data": {
      "text/plain": [
       "antecedents           (A1Cresult_None, diabetesMed_Yes)\n",
       "consequents                            (readmitted_<30)\n",
       "antecedent support                             0.630319\n",
       "consequent support                             0.111599\n",
       "support                                        0.075428\n",
       "confidence                                     0.119666\n",
       "lift                                           1.072287\n",
       "leverage                                       0.005085\n",
       "conviction                                     1.009164\n",
       "Name: 2756, dtype: object"
      ]
     },
     "execution_count": 68,
     "metadata": {},
     "output_type": "execute_result"
    }
   ],
   "source": [
    "rule3.loc[rule3['lift'].idxmax()]\n",
    "#best conditions for readmitted<30"
   ]
  },
  {
   "cell_type": "markdown",
   "id": "6d8bd8d0",
   "metadata": {},
   "source": [
    "The best conditions for readmitted lesser than 30 days are diabetesMed_Yes, A1Cresult_None"
   ]
  }
 ],
 "metadata": {
  "kernelspec": {
   "display_name": "Python 3 (ipykernel)",
   "language": "python",
   "name": "python3"
  },
  "language_info": {
   "codemirror_mode": {
    "name": "ipython",
    "version": 3
   },
   "file_extension": ".py",
   "mimetype": "text/x-python",
   "name": "python",
   "nbconvert_exporter": "python",
   "pygments_lexer": "ipython3",
   "version": "3.9.6"
  }
 },
 "nbformat": 4,
 "nbformat_minor": 5
}
